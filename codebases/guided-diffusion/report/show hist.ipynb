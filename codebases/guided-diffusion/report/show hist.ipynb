{
 "cells": [
  {
   "cell_type": "code",
   "execution_count": null,
   "metadata": {},
   "outputs": [],
   "source": [
    "import numpy as np\n",
    "import matplotlib.pyplot as plt\n",
    "\n",
    "# ───────── 공통 스타일 ─────────\n",
    "plt.rcParams.update({\n",
    "    \"font.size\":        12,\n",
    "    \"axes.labelsize\":   12,\n",
    "    \"xtick.labelsize\":  10,\n",
    "    \"ytick.labelsize\":  10,\n",
    "    \"legend.fontsize\":  10,\n",
    "    \"axes.grid\":        True,\n",
    "    \"grid.linestyle\":   \"--\",\n",
    "    \"grid.alpha\":       0.6,\n",
    "    \"axes.spines.top\":  False,\n",
    "    \"axes.spines.right\":False,\n",
    "    \"figure.figsize\":   (6, 4.2),   # 기본값\n",
    "})\n",
    "\n",
    "fig, axes = plt.subplots(1, 2, figsize=(10, 3))   # 가로 두 칸\n",
    "\n",
    "for SCALE in [2.0, 4.0, 6.0, 8.0]:\n",
    "    f = f\"/data/guided-diffusion/samples/128x128_diffusion/unipc_200_scale{SCALE}_hist/images/samples_0.npz\"\n",
    "    tgt, model, eval_ = np.load(f)[\"hist_raw\"]\n",
    "\n",
    "    # ── model traj ──\n",
    "    dm = np.mean(np.abs(model[1:-1] - model[:-2]), axis=(1,2,3,4))\n",
    "    axes[0].plot(dm, lw=1.8, ls=\"-\", label=f\"scale={SCALE}\")\n",
    "    axes[0].set_xlabel(\"Step\")\n",
    "    axes[0].set_ylabel(r\"Mean $|\\Delta x_t|$\")\n",
    "    axes[0].legend(frameon=False, loc=\"upper left\")\n",
    "\n",
    "    # ── eval traj ──\n",
    "    de = np.mean(np.abs(eval_[1:-1] - eval_[:-2]), axis=(1,2,3,4))\n",
    "    axes[1].plot(de, lw=1.8, ls=\"-\", label=f\"scale={SCALE}\")\n",
    "    axes[1].set_xlabel(\"Step\")\n",
    "    axes[1].set_ylabel(r\"Mean $|\\Delta x_0|$\")\n",
    "    axes[1].legend(frameon=False, loc=\"upper right\")\n",
    "\n",
    "fig.tight_layout()\n",
    "plt.show()\n"
   ]
  },
  {
   "cell_type": "code",
   "execution_count": null,
   "metadata": {},
   "outputs": [],
   "source": []
  }
 ],
 "metadata": {
  "kernelspec": {
   "display_name": "rbf",
   "language": "python",
   "name": "python3"
  },
  "language_info": {
   "codemirror_mode": {
    "name": "ipython",
    "version": 3
   },
   "file_extension": ".py",
   "mimetype": "text/x-python",
   "name": "python",
   "nbconvert_exporter": "python",
   "pygments_lexer": "ipython3",
   "version": "3.11.11"
  }
 },
 "nbformat": 4,
 "nbformat_minor": 2
}

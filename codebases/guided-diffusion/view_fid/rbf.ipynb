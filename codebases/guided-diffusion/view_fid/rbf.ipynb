{
 "cells": [
  {
   "cell_type": "code",
   "execution_count": 46,
   "id": "bc440b2a-c2db-48a9-85e5-e1cf1301890e",
   "metadata": {},
   "outputs": [
    {
     "name": "stdout",
     "output_type": "stream",
     "text": [
      "파일을 찾을 수 없습니다: ../samples/256x256_diffusion/rbf_5_scale2.0/fid.npy\n",
      "파일을 찾을 수 없습니다: ../samples/256x256_diffusion/rbf_6_scale2.0/fid.npy\n",
      "파일을 찾을 수 없습니다: ../samples/256x256_diffusion/rbf_8_scale2.0/fid.npy\n",
      "파일을 찾을 수 없습니다: ../samples/256x256_diffusion/rbf_10_scale2.0/fid.npy\n",
      "NFE=12 에 대한 fid 값:\n",
      "8.009712353698205\n",
      "--------------------------------------------------\n",
      "NFE=15 에 대한 fid 값:\n",
      "7.735580590056088\n",
      "--------------------------------------------------\n",
      "NFE=20 에 대한 fid 값:\n",
      "7.5717426486355635\n",
      "--------------------------------------------------\n",
      "파일을 찾을 수 없습니다: ../samples/256x256_diffusion/rbf_25_scale2.0/fid.npy\n"
     ]
    }
   ],
   "source": [
    "import os\n",
    "import numpy as np\n",
    "\n",
    "# 확인하고 싶은 NFE 값들\n",
    "NFE_list = [5, 6, 8, 10, 12, 15, 20, 25]\n",
    "\n",
    "# 기본 경로\n",
    "base_path = '../samples/256x256_diffusion'\n",
    "\n",
    "for nfe in NFE_list:\n",
    "    # 예: ../samples/256x256_diffusion/rbf_5_scale2.0/fid.npy\n",
    "    npy_path = os.path.join(base_path, f\"rbf_{nfe}_scale2.0\", \"fid.npy\")\n",
    "    \n",
    "    if os.path.isfile(npy_path):\n",
    "        # npy 파일 로드\n",
    "        data = np.load(npy_path, allow_pickle=True)\n",
    "        \n",
    "        # 데이터 형태나 내용에 맞춰 출력 (여기서는 예시로 단순 출력)\n",
    "        print(f\"NFE={nfe} 에 대한 fid 값:\")\n",
    "        print(data)\n",
    "        print(\"--------------------------------------------------\")\n",
    "    else:\n",
    "        print(f\"파일을 찾을 수 없습니다: {npy_path}\")\n"
   ]
  },
  {
   "cell_type": "code",
   "execution_count": 35,
   "id": "3fb377c6-71c5-4d51-8e50-06fa2cf24987",
   "metadata": {},
   "outputs": [
    {
     "name": "stdout",
     "output_type": "stream",
     "text": [
      "total 0\n",
      "drwxr-xr-x 3 root root 35 Apr  3 12:14 rbf_12_scale2.0\n",
      "drwxr-xr-x 3 root root 20 Apr  3 09:39 rbf_15_scale2.0\n",
      "drwxr-xr-x 3 root root 20 Apr  3 09:39 rbf_20_scale2.0\n"
     ]
    }
   ],
   "source": [
    "!ls ../samples/256x256_diffusion -l"
   ]
  },
  {
   "cell_type": "code",
   "execution_count": 36,
   "id": "f7561018-91f2-4d91-adf9-98c54edf4177",
   "metadata": {},
   "outputs": [
    {
     "name": "stdout",
     "output_type": "stream",
     "text": [
      "최소 차이: 2\n",
      "네 사람의 합: [20, 18, 18, 20]\n",
      "예시로 출력할 분배(첫 번째 해법): (0, 1, 2, 2, 1, 0, 3)\n",
      "사람1 -> [5, 15], 합 = 20\n",
      "사람2 -> [6, 12], 합 = 18\n",
      "사람3 -> [8, 10], 합 = 18\n",
      "사람4 -> [20], 합 = 20\n"
     ]
    }
   ],
   "source": [
    "numbers = [5, 6, 8, 10, 12, 15, 20]\n",
    "import math\n",
    "\n",
    "from itertools import product\n",
    "\n",
    "best_diff = math.inf\n",
    "best_assignments = []\n",
    "best_sums = None\n",
    "\n",
    "# 모든 수(7개)에 대해 4명 중 누구에게 갈지 할당(0,1,2,3)을 전부 시도\n",
    "for assignment in product(range(4), repeat=len(numbers)):\n",
    "    # 네 명의 합을 구한다\n",
    "    sums = [0, 0, 0, 0]\n",
    "    for i, person in enumerate(assignment):\n",
    "        sums[person] += numbers[i]\n",
    "        \n",
    "    diff = max(sums) - min(sums)\n",
    "    \n",
    "    # 지금까지 구한 분배중 차이가 가장 작으면 갱신\n",
    "    if diff < best_diff:\n",
    "        best_diff = diff\n",
    "        best_assignments = [assignment]\n",
    "        best_sums = sums\n",
    "    elif diff == best_diff:\n",
    "        best_assignments.append(assignment)\n",
    "\n",
    "# 가장 작은 차이(best_diff)를 만족하는 분배 중 하나를 예시로 출력\n",
    "print(f\"최소 차이: {best_diff}\")\n",
    "print(\"네 사람의 합:\", best_sums)\n",
    "\n",
    "# 예시로 best_assignments[0] 을 사용\n",
    "print(\"예시로 출력할 분배(첫 번째 해법):\", best_assignments[0])\n",
    "\n",
    "# 분배 결과를 사람별로 어떻게 나눴는지 보기 좋게 출력\n",
    "assignment_example = best_assignments[0]\n",
    "result = [[] for _ in range(4)]\n",
    "for i, person in enumerate(assignment_example):\n",
    "    result[person].append(numbers[i])\n",
    "\n",
    "for i, group in enumerate(result):\n",
    "    print(f\"사람{i+1} -> {group}, 합 = {sum(group)}\")\n"
   ]
  },
  {
   "cell_type": "code",
   "execution_count": null,
   "id": "42027a09-4f78-4722-8388-80a8da6ab1d0",
   "metadata": {},
   "outputs": [],
   "source": []
  },
  {
   "cell_type": "code",
   "execution_count": null,
   "id": "e6819375-973d-4ab8-bb09-3c6b56f254a5",
   "metadata": {},
   "outputs": [],
   "source": []
  }
 ],
 "metadata": {
  "kernelspec": {
   "display_name": "Python 3 (ipykernel)",
   "language": "python",
   "name": "python3"
  },
  "language_info": {
   "codemirror_mode": {
    "name": "ipython",
    "version": 3
   },
   "file_extension": ".py",
   "mimetype": "text/x-python",
   "name": "python",
   "nbconvert_exporter": "python",
   "pygments_lexer": "ipython3",
   "version": "3.10.11"
  }
 },
 "nbformat": 4,
 "nbformat_minor": 5
}

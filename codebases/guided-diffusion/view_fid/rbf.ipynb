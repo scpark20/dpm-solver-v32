{
 "cells": [
  {
   "cell_type": "code",
   "execution_count": 7,
   "id": "bc440b2a-c2db-48a9-85e5-e1cf1301890e",
   "metadata": {},
   "outputs": [
    {
     "name": "stdout",
     "output_type": "stream",
     "text": [
      "NFE=5 에 대한 fid 값:\n",
      "15.164668145268877\n",
      "--------------------------------------------------\n",
      "NFE=10 에 대한 fid 값:\n",
      "8.396868314135418\n",
      "--------------------------------------------------\n",
      "NFE=15 에 대한 fid 값:\n",
      "7.73439320059515\n",
      "--------------------------------------------------\n",
      "NFE=20 에 대한 fid 값:\n",
      "7.5685765454891225\n",
      "--------------------------------------------------\n",
      "NFE=25 에 대한 fid 값:\n",
      "7.440500657992175\n",
      "--------------------------------------------------\n",
      "NFE=30 에 대한 fid 값:\n",
      "7.368673248289269\n",
      "--------------------------------------------------\n",
      "파일을 찾을 수 없습니다: ../samples/256x256_diffusion/rbf_ecp_35_scale2.0/fid.npy\n",
      "파일을 찾을 수 없습니다: ../samples/256x256_diffusion/rbf_ecp_40_scale2.0/fid.npy\n"
     ]
    }
   ],
   "source": [
    "import os\n",
    "import numpy as np\n",
    "\n",
    "# 확인하고 싶은 NFE 값들\n",
    "NFE_list = [5, 10, 15, 20, 25, 30, 35, 40]\n",
    "\n",
    "# 기본 경로\n",
    "base_path = '../samples/256x256_diffusion'\n",
    "\n",
    "for nfe in NFE_list:\n",
    "    # 예: ../samples/256x256_diffusion/rbf_5_scale2.0/fid.npy\n",
    "    npy_path = os.path.join(base_path, f\"rbf_ecp_{nfe}_scale2.0\", \"fid.npy\")\n",
    "    \n",
    "    if os.path.isfile(npy_path):\n",
    "        # npy 파일 로드\n",
    "        data = np.load(npy_path, allow_pickle=True)\n",
    "        \n",
    "        # 데이터 형태나 내용에 맞춰 출력 (여기서는 예시로 단순 출력)\n",
    "        print(f\"NFE={nfe} 에 대한 fid 값:\")\n",
    "        print(data)\n",
    "        print(\"--------------------------------------------------\")\n",
    "    else:\n",
    "        print(f\"파일을 찾을 수 없습니다: {npy_path}\")\n"
   ]
  },
  {
   "cell_type": "code",
   "execution_count": 10,
   "id": "3fb377c6-71c5-4d51-8e50-06fa2cf24987",
   "metadata": {},
   "outputs": [
    {
     "name": "stdout",
     "output_type": "stream",
     "text": [
      "total 28\n",
      "drwxrwxr-x 3 logpx logpx 4096 Apr 10 20:29  exp\n",
      "drwxrwxr-x 3 logpx logpx 4096 Apr 10 22:38  rbf_ecp_10_scale2.0\n",
      "drwxrwxr-x 3 logpx logpx 4096 Apr 11 00:32  rbf_ecp_15_scale2.0\n",
      "drwxrwxr-x 3 logpx logpx 4096 Apr 11 03:04  rbf_ecp_20_scale2.0\n",
      "drwxrwxr-x 3 logpx logpx 4096 Apr 11 03:04  rbf_ecp_25_scale2.0\n",
      "drwxrwxr-x 3 logpx logpx 4096 Apr 10 21:21  rbf_ecp_5_scale2.0\n",
      "lrwxrwxrwx 1 logpx logpx   18 Apr 10 20:59 'rbf_ecp_order=2_5_scale2.0' -> rbf_ecp_5_scale2.0\n",
      "drwxrwxr-x 3 logpx logpx 4096 Apr 10 17:52  unipc_200_scale0.0\n"
     ]
    }
   ],
   "source": [
    "!ls ../samples/256x256_diffusion -l"
   ]
  },
  {
   "cell_type": "code",
   "execution_count": null,
   "id": "42027a09-4f78-4722-8388-80a8da6ab1d0",
   "metadata": {},
   "outputs": [],
   "source": []
  },
  {
   "cell_type": "code",
   "execution_count": null,
   "id": "e6819375-973d-4ab8-bb09-3c6b56f254a5",
   "metadata": {},
   "outputs": [],
   "source": []
  }
 ],
 "metadata": {
  "kernelspec": {
   "display_name": "rbf",
   "language": "python",
   "name": "python3"
  },
  "language_info": {
   "codemirror_mode": {
    "name": "ipython",
    "version": 3
   },
   "file_extension": ".py",
   "mimetype": "text/x-python",
   "name": "python",
   "nbconvert_exporter": "python",
   "pygments_lexer": "ipython3",
   "version": "3.11.11"
  }
 },
 "nbformat": 4,
 "nbformat_minor": 5
}

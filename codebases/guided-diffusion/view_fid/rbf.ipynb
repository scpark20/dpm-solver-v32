{
 "cells": [
  {
   "cell_type": "code",
   "execution_count": 24,
   "id": "bc440b2a-c2db-48a9-85e5-e1cf1301890e",
   "metadata": {},
   "outputs": [
    {
     "name": "stdout",
     "output_type": "stream",
     "text": [
      "NFE=5 에 대한 fid 값:\n",
      "15.127763868197235\n",
      "--------------------------------------------------\n",
      "NFE=6 에 대한 fid 값:\n",
      "11.504363521533776\n",
      "--------------------------------------------------\n",
      "NFE=8 에 대한 fid 값:\n",
      "9.229676283342258\n",
      "--------------------------------------------------\n",
      "NFE=10 에 대한 fid 값:\n",
      "8.39659452010062\n",
      "--------------------------------------------------\n",
      "파일을 찾을 수 없습니다: ../samples/256x256_diffusion/rbf_12_scale2.0/fid.npy\n",
      "파일을 찾을 수 없습니다: ../samples/256x256_diffusion/rbf_15_scale2.0/fid.npy\n",
      "파일을 찾을 수 없습니다: ../samples/256x256_diffusion/rbf_20_scale2.0/fid.npy\n",
      "파일을 찾을 수 없습니다: ../samples/256x256_diffusion/rbf_25_scale2.0/fid.npy\n"
     ]
    }
   ],
   "source": [
    "import os\n",
    "import numpy as np\n",
    "\n",
    "# 확인하고 싶은 NFE 값들\n",
    "NFE_list = [5, 6, 8, 10, 12, 15, 20, 25]\n",
    "\n",
    "# 기본 경로\n",
    "base_path = '../samples/256x256_diffusion'\n",
    "\n",
    "for nfe in NFE_list:\n",
    "    # 예: ../samples/256x256_diffusion/rbf_5_scale2.0/fid.npy\n",
    "    npy_path = os.path.join(base_path, f\"rbf_{nfe}_scale2.0\", \"fid.npy\")\n",
    "    \n",
    "    if os.path.isfile(npy_path):\n",
    "        # npy 파일 로드\n",
    "        data = np.load(npy_path, allow_pickle=True)\n",
    "        \n",
    "        # 데이터 형태나 내용에 맞춰 출력 (여기서는 예시로 단순 출력)\n",
    "        print(f\"NFE={nfe} 에 대한 fid 값:\")\n",
    "        print(data)\n",
    "        print(\"--------------------------------------------------\")\n",
    "    else:\n",
    "        print(f\"파일을 찾을 수 없습니다: {npy_path}\")\n"
   ]
  },
  {
   "cell_type": "code",
   "execution_count": null,
   "id": "d4e14f0e-9408-4447-b5f3-14d99e6164d8",
   "metadata": {},
   "outputs": [],
   "source": []
  },
  {
   "cell_type": "code",
   "execution_count": null,
   "id": "f7561018-91f2-4d91-adf9-98c54edf4177",
   "metadata": {},
   "outputs": [],
   "source": []
  },
  {
   "cell_type": "code",
   "execution_count": null,
   "id": "42027a09-4f78-4722-8388-80a8da6ab1d0",
   "metadata": {},
   "outputs": [],
   "source": []
  },
  {
   "cell_type": "code",
   "execution_count": null,
   "id": "e6819375-973d-4ab8-bb09-3c6b56f254a5",
   "metadata": {},
   "outputs": [],
   "source": []
  }
 ],
 "metadata": {
  "kernelspec": {
   "display_name": "Python 3 (ipykernel)",
   "language": "python",
   "name": "python3"
  },
  "language_info": {
   "codemirror_mode": {
    "name": "ipython",
    "version": 3
   },
   "file_extension": ".py",
   "mimetype": "text/x-python",
   "name": "python",
   "nbconvert_exporter": "python",
   "pygments_lexer": "ipython3",
   "version": "3.10.11"
  }
 },
 "nbformat": 4,
 "nbformat_minor": 5
}

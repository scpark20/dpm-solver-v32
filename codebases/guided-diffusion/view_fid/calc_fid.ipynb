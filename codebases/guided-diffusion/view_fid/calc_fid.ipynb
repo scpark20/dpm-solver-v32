{
 "cells": [
  {
   "cell_type": "code",
   "execution_count": 5,
   "id": "51101f29",
   "metadata": {},
   "outputs": [],
   "source": [
    "import os\n",
    "os.chdir('../')"
   ]
  },
  {
   "cell_type": "code",
   "execution_count": 17,
   "id": "3677eb7e",
   "metadata": {},
   "outputs": [
    {
     "data": {
      "text/plain": [
       "array(['/data/archive/256x256_diffusion/unipc_rbf_bh1_10_p2_c2_scale2.0',\n",
       "       '/data/archive/256x256_diffusion/unipc_rbf_bh1_10_p2_c3_scale2.0',\n",
       "       '/data/archive/256x256_diffusion/unipc_rbf_bh1_20_p2_c2_scale2.0',\n",
       "       '/data/archive/256x256_diffusion/unipc_rbf_bh1_20_p2_c3_scale2.0',\n",
       "       '/data/archive/256x256_diffusion/unipc_rbf_bh1_30_p2_c2_scale2.0',\n",
       "       '/data/archive/256x256_diffusion/unipc_rbf_bh1_30_p2_c3_scale2.0',\n",
       "       '/data/archive/256x256_diffusion/unipc_rbf_bh1_5_p2_c2_scale2.0',\n",
       "       '/data/archive/256x256_diffusion/unipc_rbf_bh1_5_p2_c3_scale2.0',\n",
       "       '/data/archive/256x256_diffusion/unipc_rbf_bh2_10_p2_c2_scale2.0',\n",
       "       '/data/archive/256x256_diffusion/unipc_rbf_bh2_10_p2_c3_scale2.0',\n",
       "       '/data/archive/256x256_diffusion/unipc_rbf_bh2_20_p2_c2_scale2.0',\n",
       "       '/data/archive/256x256_diffusion/unipc_rbf_bh2_20_p2_c3_scale2.0',\n",
       "       '/data/archive/256x256_diffusion/unipc_rbf_bh2_30_p2_c2_scale2.0',\n",
       "       '/data/archive/256x256_diffusion/unipc_rbf_bh2_30_p2_c3_scale2.0',\n",
       "       '/data/archive/256x256_diffusion/unipc_rbf_bh2_5_p2_c2_scale2.0',\n",
       "       '/data/archive/256x256_diffusion/unipc_rbf_bh2_5_p2_c3_scale2.0'],\n",
       "      dtype='<U63')"
      ]
     },
     "execution_count": 17,
     "metadata": {},
     "output_type": "execute_result"
    }
   ],
   "source": [
    "import numpy as np\n",
    "from evaluate.fid_score import calculate_fid_given_paths\n",
    "\n",
    "fid_stats_dir = \"/data/checkpoints/VIRTUAL_imagenet256_labeled.npz\"\n",
    "root_dir = '/data/archive/256x256_diffusion'\n",
    "dirs = [os.path.join(root_dir, f) for f in os.listdir(root_dir)]\n",
    "dirs = np.sort(dirs)\n",
    "dirs"
   ]
  },
  {
   "cell_type": "code",
   "execution_count": 18,
   "id": "42027a09-4f78-4722-8388-80a8da6ab1d0",
   "metadata": {},
   "outputs": [
    {
     "name": "stderr",
     "output_type": "stream",
     "text": [
      "100%|██████████| 400/400 [00:06<00:00, 61.69it/s]\n"
     ]
    },
    {
     "name": "stdout",
     "output_type": "stream",
     "text": [
      "/data/archive/256x256_diffusion/unipc_rbf_bh1_10_p2_c2_scale2.0\n",
      "FID: 8.557739857968386\n"
     ]
    },
    {
     "name": "stderr",
     "output_type": "stream",
     "text": [
      "100%|██████████| 400/400 [00:06<00:00, 64.10it/s]\n"
     ]
    },
    {
     "name": "stdout",
     "output_type": "stream",
     "text": [
      "/data/archive/256x256_diffusion/unipc_rbf_bh1_10_p2_c3_scale2.0\n",
      "FID: 8.566894644566844\n"
     ]
    },
    {
     "name": "stderr",
     "output_type": "stream",
     "text": [
      "100%|██████████| 400/400 [00:06<00:00, 63.69it/s]\n"
     ]
    },
    {
     "name": "stdout",
     "output_type": "stream",
     "text": [
      "/data/archive/256x256_diffusion/unipc_rbf_bh1_20_p2_c2_scale2.0\n",
      "FID: 7.594342564182227\n"
     ]
    },
    {
     "name": "stderr",
     "output_type": "stream",
     "text": [
      "100%|██████████| 400/400 [00:06<00:00, 63.34it/s]\n"
     ]
    },
    {
     "name": "stdout",
     "output_type": "stream",
     "text": [
      "/data/archive/256x256_diffusion/unipc_rbf_bh1_20_p2_c3_scale2.0\n",
      "FID: 7.5805551531415745\n"
     ]
    },
    {
     "name": "stderr",
     "output_type": "stream",
     "text": [
      "100%|██████████| 400/400 [00:06<00:00, 63.74it/s]\n"
     ]
    },
    {
     "name": "stdout",
     "output_type": "stream",
     "text": [
      "/data/archive/256x256_diffusion/unipc_rbf_bh1_30_p2_c2_scale2.0\n",
      "FID: 7.39534003598618\n"
     ]
    },
    {
     "name": "stderr",
     "output_type": "stream",
     "text": [
      "100%|██████████| 400/400 [00:06<00:00, 63.55it/s]\n"
     ]
    },
    {
     "name": "stdout",
     "output_type": "stream",
     "text": [
      "/data/archive/256x256_diffusion/unipc_rbf_bh1_30_p2_c3_scale2.0\n",
      "FID: 7.383546479743018\n"
     ]
    },
    {
     "name": "stderr",
     "output_type": "stream",
     "text": [
      "100%|██████████| 400/400 [00:06<00:00, 63.44it/s]\n"
     ]
    },
    {
     "name": "stdout",
     "output_type": "stream",
     "text": [
      "/data/archive/256x256_diffusion/unipc_rbf_bh1_5_p2_c2_scale2.0\n",
      "FID: 16.336648830367096\n"
     ]
    },
    {
     "name": "stderr",
     "output_type": "stream",
     "text": [
      "100%|██████████| 400/400 [00:06<00:00, 62.86it/s]\n"
     ]
    },
    {
     "name": "stdout",
     "output_type": "stream",
     "text": [
      "/data/archive/256x256_diffusion/unipc_rbf_bh1_5_p2_c3_scale2.0\n",
      "FID: 16.386579124509637\n"
     ]
    },
    {
     "name": "stderr",
     "output_type": "stream",
     "text": [
      "100%|██████████| 400/400 [00:06<00:00, 63.42it/s]\n"
     ]
    },
    {
     "name": "stdout",
     "output_type": "stream",
     "text": [
      "/data/archive/256x256_diffusion/unipc_rbf_bh2_10_p2_c2_scale2.0\n",
      "FID: 8.354875244719437\n"
     ]
    },
    {
     "name": "stderr",
     "output_type": "stream",
     "text": [
      "100%|██████████| 400/400 [00:06<00:00, 63.16it/s]\n"
     ]
    },
    {
     "name": "stdout",
     "output_type": "stream",
     "text": [
      "/data/archive/256x256_diffusion/unipc_rbf_bh2_10_p2_c3_scale2.0\n",
      "FID: 8.359669958636061\n"
     ]
    },
    {
     "name": "stderr",
     "output_type": "stream",
     "text": [
      "100%|██████████| 400/400 [00:06<00:00, 63.10it/s]\n"
     ]
    },
    {
     "name": "stdout",
     "output_type": "stream",
     "text": [
      "/data/archive/256x256_diffusion/unipc_rbf_bh2_20_p2_c2_scale2.0\n",
      "FID: 7.5647540524666965\n"
     ]
    },
    {
     "name": "stderr",
     "output_type": "stream",
     "text": [
      "100%|██████████| 400/400 [00:06<00:00, 63.20it/s]\n"
     ]
    },
    {
     "name": "stdout",
     "output_type": "stream",
     "text": [
      "/data/archive/256x256_diffusion/unipc_rbf_bh2_20_p2_c3_scale2.0\n",
      "FID: 7.554510316190658\n"
     ]
    },
    {
     "name": "stderr",
     "output_type": "stream",
     "text": [
      "100%|██████████| 400/400 [00:06<00:00, 63.21it/s]\n"
     ]
    },
    {
     "name": "stdout",
     "output_type": "stream",
     "text": [
      "/data/archive/256x256_diffusion/unipc_rbf_bh2_30_p2_c2_scale2.0\n",
      "FID: 7.357189317058442\n"
     ]
    },
    {
     "name": "stderr",
     "output_type": "stream",
     "text": [
      "100%|██████████| 400/400 [00:06<00:00, 62.99it/s]\n"
     ]
    },
    {
     "name": "stdout",
     "output_type": "stream",
     "text": [
      "/data/archive/256x256_diffusion/unipc_rbf_bh2_30_p2_c3_scale2.0\n",
      "FID: 7.348518432401136\n"
     ]
    },
    {
     "name": "stderr",
     "output_type": "stream",
     "text": [
      "100%|██████████| 400/400 [00:06<00:00, 62.70it/s]\n"
     ]
    },
    {
     "name": "stdout",
     "output_type": "stream",
     "text": [
      "/data/archive/256x256_diffusion/unipc_rbf_bh2_5_p2_c2_scale2.0\n",
      "FID: 15.059831746518967\n"
     ]
    },
    {
     "name": "stderr",
     "output_type": "stream",
     "text": [
      "100%|██████████| 400/400 [00:06<00:00, 62.87it/s]\n"
     ]
    },
    {
     "name": "stdout",
     "output_type": "stream",
     "text": [
      "/data/archive/256x256_diffusion/unipc_rbf_bh2_5_p2_c3_scale2.0\n",
      "FID: 15.075054823570667\n"
     ]
    }
   ],
   "source": [
    "for dir in dirs:\n",
    "    image_dir = os.path.join(dir, 'images')\n",
    "    fid = calculate_fid_given_paths(\n",
    "                (fid_stats_dir, image_dir),\n",
    "                batch_size=25,\n",
    "                device=\"cuda\",\n",
    "                dims=2048,\n",
    "                num_workers=8,\n",
    "            )\n",
    "\n",
    "    print(dir)\n",
    "    print(\"FID: {}\".format(fid))\n",
    "    np.save(os.path.join(dir, \"fid\"), fid)"
   ]
  },
  {
   "cell_type": "code",
   "execution_count": null,
   "id": "e6819375-973d-4ab8-bb09-3c6b56f254a5",
   "metadata": {},
   "outputs": [],
   "source": []
  }
 ],
 "metadata": {
  "kernelspec": {
   "display_name": "rbf",
   "language": "python",
   "name": "python3"
  },
  "language_info": {
   "codemirror_mode": {
    "name": "ipython",
    "version": 3
   },
   "file_extension": ".py",
   "mimetype": "text/x-python",
   "name": "python",
   "nbconvert_exporter": "python",
   "pygments_lexer": "ipython3",
   "version": "3.11.11"
  }
 },
 "nbformat": 4,
 "nbformat_minor": 5
}

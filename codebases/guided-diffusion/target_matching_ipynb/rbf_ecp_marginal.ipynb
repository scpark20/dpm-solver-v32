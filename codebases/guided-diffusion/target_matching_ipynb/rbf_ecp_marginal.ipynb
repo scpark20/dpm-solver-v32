{
 "cells": [
  {
   "cell_type": "code",
   "execution_count": 1,
   "metadata": {},
   "outputs": [],
   "source": [
    "import os\n",
    "os.chdir('../')"
   ]
  },
  {
   "cell_type": "code",
   "execution_count": 2,
   "metadata": {},
   "outputs": [
    {
     "name": "stdout",
     "output_type": "stream",
     "text": [
      "torch.Size([175, 3, 256, 256]) torch.Size([175, 3, 256, 256]) torch.Size([175])\n"
     ]
    }
   ],
   "source": [
    "import torch\n",
    "import numpy as np\n",
    "\n",
    "noises = []\n",
    "datas = []\n",
    "classes = []\n",
    "for i in range(100):\n",
    "    file = f'samples/256x256_diffusion/unipc_200_scale0.0/images/samples_{i}.npz'\n",
    "    if not os.path.exists(file):\n",
    "        break\n",
    "    data = np.load(file)\n",
    "    noises.append(data['noises_raw'])\n",
    "    datas.append(data['datas_raw'])\n",
    "    classes.append(data['classes'])\n",
    "\n",
    "noises = torch.tensor(np.concatenate(noises, axis=0))\n",
    "datas = torch.tensor(np.concatenate(datas, axis=0))\n",
    "classes = torch.tensor(np.concatenate(classes, axis=0))\n",
    "print(noises.shape, datas.shape, classes.shape)"
   ]
  },
  {
   "cell_type": "code",
   "execution_count": 3,
   "metadata": {},
   "outputs": [
    {
     "name": "stderr",
     "output_type": "stream",
     "text": [
      "INFO - sample.py - 2025-04-12 19:31:08,937 - Using device: cuda\n"
     ]
    },
    {
     "name": "stdout",
     "output_type": "stream",
     "text": [
      "[prepare_model] Model is ready.\n"
     ]
    }
   ],
   "source": [
    "import sys\n",
    "import torch\n",
    "import numpy as np\n",
    "import matplotlib.pyplot as plt\n",
    "import torchvision.utils as vutils\n",
    "import random\n",
    "\n",
    "from sample import parse_args_and_config, Diffusion\n",
    "from runners.diffusion import inverse_data_transform\n",
    "\n",
    "# seed = 42\n",
    "# random.seed(seed)\n",
    "# np.random.seed(seed)\n",
    "# torch.manual_seed(seed)\n",
    "# torch.cuda.manual_seed_all(seed)\n",
    "\n",
    "# torch.backends.cudnn.deterministic = True\n",
    "# torch.backends.benchmark = False\n",
    "\n",
    "###############################################################################\n",
    "# 1) Notebook에서 sys.argv를 직접 설정 (argparse 흉내)\n",
    "###############################################################################\n",
    "sys.argv = [\n",
    "    \"sample.py\",\n",
    "    \"--config\", \"imagenet256_guided.yml\",  # 사용하려는 config\n",
    "    \"--sample_type\", \"rbf_ecp_marginal\",\n",
    "    \"--timesteps\", \"5\",\n",
    "    \"--scale\", \"0.0\",\n",
    "    \"--order\", \"2\",\n",
    "    \"--lower_order_final\",\n",
    "    \"--scale_dir\", \"/data/guided-diffusion/scale/rbf_ecp_marginal\"\n",
    "]\n",
    "###############################################################################\n",
    "# 2) 인자/설정 로드\n",
    "###############################################################################\n",
    "args, config = parse_args_and_config()\n",
    "\n",
    "###############################################################################\n",
    "# 3) Diffusion 객체 생성 -> 모델 로딩\n",
    "###############################################################################\n",
    "diffusion = Diffusion(args, config, rank=0)\n",
    "diffusion.prepare_model()\n"
   ]
  },
  {
   "cell_type": "code",
   "execution_count": null,
   "metadata": {},
   "outputs": [
    {
     "name": "stdout",
     "output_type": "stream",
     "text": [
      "[168  13 151  16 172 116 144 131 144  58  27 103  35 135  71  72]\n",
      "def sample_by_target_matching start!!!\n",
      "x.shape: torch.Size([16, 3, 256, 256]), target.shape: torch.Size([16, 3, 256, 256]), steps: 5, order: 2, skip_type: time_uniform, lower_order_final: True\n"
     ]
    }
   ],
   "source": [
    "import torch.nn.functional as F\n",
    "\n",
    "for number in range(1):\n",
    "    indexes = np.random.randint(0, len(noises), size=(16,))\n",
    "    print(indexes)\n",
    "    noise_batch = noises[indexes].to(device=diffusion.device)\n",
    "    target_batch = datas[indexes].to(device=diffusion.device)\n",
    "    classes_batch = classes[indexes].to(device=diffusion.device)\n",
    "    with torch.no_grad():\n",
    "        sampled_x, _ = diffusion.sample_image(noise_batch, diffusion.model, classifier=diffusion.classifier, classes=classes_batch, target=target_batch, number=number)\n",
    "        print(F.mse_loss(target_batch, sampled_x))\n",
    "\n",
    "        data = np.load(f'/data/guided-diffusion/scale/rbf_ecp_marginal/NFE={args.timesteps},p={args.order},number={number}.npz')\n",
    "\n",
    "        import matplotlib.pyplot as plt\n",
    "        plt.figure(figsize=[5, 2])\n",
    "        plt.title(f'order={args.order}, NFE={args.timesteps}')\n",
    "        plt.plot(data['optimal_log_scales'].T)\n",
    "        plt.grid()\n",
    "        plt.show()\n",
    "\n"
   ]
  },
  {
   "cell_type": "code",
   "execution_count": null,
   "metadata": {},
   "outputs": [
    {
     "name": "stdout",
     "output_type": "stream",
     "text": [
      "['optimal_log_scales', 'loss_grid_list']\n"
     ]
    },
    {
     "data": {
      "image/png": "[encoded data removed]",
      "text/plain": [
       "<Figure size 500x200 with 1 Axes>"
      ]
     },
     "metadata": {},
     "output_type": "display_data"
    }
   ],
   "source": [
    "data = np.load(f'/data/guided-diffusion/scale/rbf_ecp/NFE={args.timesteps},p={args.order}.npz')\n",
    "print(list(data.keys()))\n",
    "\n",
    "import matplotlib.pyplot as plt\n",
    "plt.figure(figsize=[5, 2])\n",
    "plt.title(f'order={args.order}, NFE={args.timesteps}')\n",
    "plt.plot(data['optimal_log_scales'].T)\n",
    "plt.grid()\n",
    "plt.show()"
   ]
  },
  {
   "cell_type": "code",
   "execution_count": null,
   "metadata": {},
   "outputs": [
    {
     "data": {
      "text/plain": [
       "4"
      ]
     },
     "execution_count": 56,
     "metadata": {},
     "output_type": "execute_result"
    }
   ],
   "source": [
    "args.order"
   ]
  },
  {
   "cell_type": "code",
   "execution_count": null,
   "metadata": {},
   "outputs": [],
   "source": []
  },
  {
   "cell_type": "code",
   "execution_count": null,
   "metadata": {},
   "outputs": [],
   "source": []
  },
  {
   "cell_type": "code",
   "execution_count": null,
   "metadata": {},
   "outputs": [],
   "source": []
  }
 ],
 "metadata": {
  "kernelspec": {
   "display_name": "rbf",
   "language": "python",
   "name": "python3"
  },
  "language_info": {
   "codemirror_mode": {
    "name": "ipython",
    "version": 3
   },
   "file_extension": ".py",
   "mimetype": "text/x-python",
   "name": "python",
   "nbconvert_exporter": "python",
   "pygments_lexer": "ipython3",
   "version": "3.11.11"
  }
 },
 "nbformat": 4,
 "nbformat_minor": 2
}

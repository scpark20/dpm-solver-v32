{
 "cells": [
  {
   "cell_type": "code",
   "execution_count": 2,
   "metadata": {},
   "outputs": [
    {
     "name": "stdout",
     "output_type": "stream",
     "text": [
      "/data/edm/samples/edm-cifar10-32x32-uncond-vp/dpm_solver++_200/samples_0.npz\n"
     ]
    }
   ],
   "source": [
    "!ls /data/edm/samples/edm-cifar10-32x32-uncond-vp/dpm_solver++_200/samples_0.npz"
   ]
  },
  {
   "cell_type": "code",
   "execution_count": 3,
   "metadata": {},
   "outputs": [
    {
     "data": {
      "text/plain": [
       "(201, 16, 3, 32, 32)"
      ]
     },
     "execution_count": 3,
     "metadata": {},
     "output_type": "execute_result"
    }
   ],
   "source": [
    "import numpy as np\n",
    "npz_file = '/data/edm/samples/edm-cifar10-32x32-uncond-vp/dpm_solver++_200/samples_0.npz'\n",
    "data = np.load(npz_file)\n",
    "data['hist'].shape"
   ]
  },
  {
   "cell_type": "code",
   "execution_count": 4,
   "metadata": {},
   "outputs": [
    {
     "data": {
      "text/plain": [
       "(201,)"
      ]
     },
     "execution_count": 4,
     "metadata": {},
     "output_type": "execute_result"
    }
   ],
   "source": [
    "data['timesteps'].shape"
   ]
  },
  {
   "cell_type": "code",
   "execution_count": 5,
   "metadata": {},
   "outputs": [
    {
     "data": {
      "text/plain": [
       "80.00000762939453"
      ]
     },
     "execution_count": 5,
     "metadata": {},
     "output_type": "execute_result"
    }
   ],
   "source": [
    "data['timesteps'][0]"
   ]
  },
  {
   "cell_type": "code",
   "execution_count": 13,
   "metadata": {},
   "outputs": [
    {
     "data": {
      "text/plain": [
       "array([[[ -65.3867197 ,  -44.4454813 ,  -66.13516331, ...,\n",
       "          -27.02165604,  -28.28876734,  -21.83262348],\n",
       "        [ 106.3223362 ,   95.79012871, -101.16131783, ...,\n",
       "           11.97223902,  -19.6799767 , -117.09190369],\n",
       "        [  47.00833797,  -92.8204155 ,   80.36154747, ...,\n",
       "           61.18709564,   72.65244961, -198.06669235],\n",
       "        ...,\n",
       "        [ -52.80385494,   -9.56166267,   72.00045586, ...,\n",
       "          -24.87695456,  -56.73350334,  -48.95555496],\n",
       "        [ -71.93585873,  -64.50390816,  215.3260231 , ...,\n",
       "           19.54955459,   25.74244261,   58.98884773],\n",
       "        [ -11.1440444 ,   86.53401375,   77.57017136, ...,\n",
       "          -39.59091425,  -20.00457525,   -6.93811357]],\n",
       "\n",
       "       [[ -67.07684994,  322.94155121,   39.3362689 , ...,\n",
       "           48.15749645,   48.20652485,   39.20915842],\n",
       "        [ 118.89307976,  143.17731857,  -42.62697697, ...,\n",
       "          -69.41913128,  -79.35250282,   15.1018405 ],\n",
       "        [ 119.48646545,  -64.10699368,  -43.98848057, ...,\n",
       "         -141.117239  , -101.3226223 , -271.0549736 ],\n",
       "        ...,\n",
       "        [  43.87822628,   51.98651791, -154.21574593, ...,\n",
       "           -1.29561186,   42.94390202,    2.85589695],\n",
       "        [  53.79498005,  -72.70905972,  -13.62796664, ...,\n",
       "           46.74904823,   16.40018582,  -80.91635704],\n",
       "        [ -28.75343323,  -50.41516304, -121.6356945 , ...,\n",
       "          -54.48264122,  -22.76875019,  -71.05886459]],\n",
       "\n",
       "       [[ -86.97038651,  129.58597183,  131.77739143, ...,\n",
       "           -6.51030838,  -44.70189571,   -0.7290151 ],\n",
       "        [ -64.45402145,   46.77125931,  -32.36991644, ...,\n",
       "          -15.96218348, -107.40779877,   98.2089901 ],\n",
       "        [-110.24688721,   75.28333664,   41.42285347, ...,\n",
       "           37.4063015 ,  207.19964981,  -81.68590546],\n",
       "        ...,\n",
       "        [ -73.50004196, -113.21148872,   18.50776792, ...,\n",
       "          -47.05062389,   30.80799103,   29.01584625],\n",
       "        [ 179.81632233,   15.86226583,   21.53616667, ...,\n",
       "            5.52636564,   28.50307465,  -44.85521793],\n",
       "        [-177.44270325,  -33.26648712,  137.03055382, ...,\n",
       "           44.83879089,  -92.80405998, -279.00447845]]])"
      ]
     },
     "execution_count": 13,
     "metadata": {},
     "output_type": "execute_result"
    }
   ],
   "source": [
    "data['hist'][0, 0]"
   ]
  },
  {
   "cell_type": "code",
   "execution_count": null,
   "metadata": {},
   "outputs": [],
   "source": []
  },
  {
   "cell_type": "code",
   "execution_count": null,
   "metadata": {},
   "outputs": [],
   "source": []
  },
  {
   "cell_type": "code",
   "execution_count": null,
   "metadata": {},
   "outputs": [],
   "source": []
  }
 ],
 "metadata": {
  "kernelspec": {
   "display_name": "rbf",
   "language": "python",
   "name": "python3"
  },
  "language_info": {
   "codemirror_mode": {
    "name": "ipython",
    "version": 3
   },
   "file_extension": ".py",
   "mimetype": "text/x-python",
   "name": "python",
   "nbconvert_exporter": "python",
   "pygments_lexer": "ipython3",
   "version": "3.11.11"
  }
 },
 "nbformat": 4,
 "nbformat_minor": 2
}

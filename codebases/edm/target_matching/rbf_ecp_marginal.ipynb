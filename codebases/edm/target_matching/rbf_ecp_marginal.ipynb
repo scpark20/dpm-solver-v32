{
 "cells": [
  {
   "cell_type": "code",
   "execution_count": 1,
   "metadata": {},
   "outputs": [],
   "source": [
    "import torch\n",
    "import numpy as np\n",
    "import os\n",
    "os.chdir('../')\n",
    "os.environ[\"CUDA_VISIBLE_DEVICES\"] = \"0\"\n",
    "\n",
    "N = 128\n",
    "M = 16\n",
    "K = 20"
   ]
  },
  {
   "cell_type": "code",
   "execution_count": 2,
   "metadata": {},
   "outputs": [],
   "source": [
    "scale_dir = \"/data/edm/scale/rbf_ecp_marginal\"\n",
    "os.makedirs(scale_dir, exist_ok=True)"
   ]
  },
  {
   "cell_type": "code",
   "execution_count": 3,
   "metadata": {},
   "outputs": [
    {
     "name": "stdout",
     "output_type": "stream",
     "text": [
      "(16, 3, 32, 32) (16, 3, 32, 32)\n",
      "(16, 3, 32, 32) (16, 3, 32, 32)\n",
      "(16, 3, 32, 32) (16, 3, 32, 32)\n",
      "(16, 3, 32, 32) (16, 3, 32, 32)\n",
      "(16, 3, 32, 32) (16, 3, 32, 32)\n",
      "(16, 3, 32, 32) (16, 3, 32, 32)\n",
      "(16, 3, 32, 32) (16, 3, 32, 32)\n",
      "(16, 3, 32, 32) (16, 3, 32, 32)\n",
      "torch.Size([128, 3, 32, 32]) torch.Size([128, 3, 32, 32])\n"
     ]
    }
   ],
   "source": [
    "root_dir = 'samples/edm-cifar10-32x32-uncond-vp/dpm_solver++_200'\n",
    "noises = []\n",
    "samples = []\n",
    "for i in range(8):\n",
    "    file = os.path.join(root_dir, f'samples_{i}.npz')\n",
    "    data = np.load(file)\n",
    "    print(data['noises'].shape, data['samples'].shape)\n",
    "    noises.append(data['noises'])\n",
    "    samples.append(data['samples'])\n",
    "\n",
    "noises = torch.tensor(np.concatenate(noises, axis=0))[:N]\n",
    "samples = torch.tensor(np.concatenate(samples, axis=0))[:N]\n",
    "print(noises.shape, samples.shape)"
   ]
  },
  {
   "cell_type": "code",
   "execution_count": 4,
   "metadata": {},
   "outputs": [
    {
     "name": "stdout",
     "output_type": "stream",
     "text": [
      "Loading network from \"/data/checkpoints/edm-cifar10-32x32-uncond-vp.pkl\"...\n"
     ]
    },
    {
     "data": {
      "text/plain": [
       "<samplers.utils.NoiseScheduleEDM at 0x78f9f3a24290>"
      ]
     },
     "execution_count": 4,
     "metadata": {},
     "output_type": "execute_result"
    }
   ],
   "source": [
    "import pickle\n",
    "from samplers.utils import NoiseScheduleEDM, model_wrapper\n",
    "\n",
    "device = \"cuda\" if torch.cuda.is_available() else \"cpu\"\n",
    "# Fix the seed for z = sde.prior_sampling(shape).to(device) in deterministic sampling\n",
    "torch.manual_seed(10)\n",
    "\n",
    "# Load network.\n",
    "ckp_path=\"/data/checkpoints/edm-cifar10-32x32-uncond-vp.pkl\"\n",
    "print(f'Loading network from \"{ckp_path}\"...')\n",
    "with open(ckp_path, \"rb\") as f:\n",
    "    net = pickle.load(f)[\"ema\"].to(device)\n",
    "\n",
    "ns = NoiseScheduleEDM()\n",
    "ns"
   ]
  },
  {
   "cell_type": "code",
   "execution_count": 5,
   "metadata": {},
   "outputs": [],
   "source": [
    "from samplers.rbf_ecp_marginal import RBFSolverECPMarginal\n",
    "sigma_min=0.002\n",
    "sigma_max=80\n",
    "\n",
    "rbf = RBFSolverECPMarginal(ns, algorithm_type=\"data_prediction\", scale_dir=scale_dir)\n",
    "def rbf_sampler(model_fn, z, x, steps, order, skip_type='logSNR'):\n",
    "    with torch.no_grad():\n",
    "        pred = rbf.sample_by_target_matching(\n",
    "            model_fn,\n",
    "            z,\n",
    "            x,\n",
    "            steps=steps,\n",
    "            t_start=sigma_max,\n",
    "            t_end=sigma_min,\n",
    "            order=order,\n",
    "            skip_type=skip_type,\n",
    "        )\n",
    "        return pred\n",
    "\n",
    "sampling_fn = rbf_sampler"
   ]
  },
  {
   "cell_type": "code",
   "execution_count": 6,
   "metadata": {},
   "outputs": [
    {
     "name": "stdout",
     "output_type": "stream",
     "text": [
      "def sample_by_target_matching start!!!\n",
      "x.shape: torch.Size([20, 3, 32, 32]), target.shape: torch.Size([20, 3, 32, 32]), steps: 5, order: 4, skip_type: logSNR, lower_order_final: True\n",
      "/data/edm/scale/rbf_ecp_marginal/NFE=5,p=4,number=0.npz  saved!\n",
      "tensor(0.0233, device='cuda:0', dtype=torch.float64)\n",
      "def sample_by_target_matching start!!!\n",
      "x.shape: torch.Size([20, 3, 32, 32]), target.shape: torch.Size([20, 3, 32, 32]), steps: 5, order: 4, skip_type: logSNR, lower_order_final: True\n",
      "/data/edm/scale/rbf_ecp_marginal/NFE=5,p=4,number=0.npz  saved!\n",
      "tensor(0.0201, device='cuda:0', dtype=torch.float64)\n",
      "def sample_by_target_matching start!!!\n",
      "x.shape: torch.Size([20, 3, 32, 32]), target.shape: torch.Size([20, 3, 32, 32]), steps: 5, order: 4, skip_type: logSNR, lower_order_final: True\n",
      "/data/edm/scale/rbf_ecp_marginal/NFE=5,p=4,number=0.npz  saved!\n",
      "tensor(0.0365, device='cuda:0', dtype=torch.float64)\n",
      "def sample_by_target_matching start!!!\n",
      "x.shape: torch.Size([20, 3, 32, 32]), target.shape: torch.Size([20, 3, 32, 32]), steps: 5, order: 4, skip_type: logSNR, lower_order_final: True\n",
      "/data/edm/scale/rbf_ecp_marginal/NFE=5,p=4,number=0.npz  saved!\n",
      "tensor(0.0289, device='cuda:0', dtype=torch.float64)\n",
      "def sample_by_target_matching start!!!\n",
      "x.shape: torch.Size([20, 3, 32, 32]), target.shape: torch.Size([20, 3, 32, 32]), steps: 5, order: 4, skip_type: logSNR, lower_order_final: True\n",
      "/data/edm/scale/rbf_ecp_marginal/NFE=5,p=4,number=0.npz  saved!\n",
      "tensor(0.0204, device='cuda:0', dtype=torch.float64)\n",
      "def sample_by_target_matching start!!!\n",
      "x.shape: torch.Size([20, 3, 32, 32]), target.shape: torch.Size([20, 3, 32, 32]), steps: 5, order: 4, skip_type: logSNR, lower_order_final: True\n",
      "/data/edm/scale/rbf_ecp_marginal/NFE=5,p=4,number=0.npz  saved!\n",
      "tensor(0.0328, device='cuda:0', dtype=torch.float64)\n",
      "def sample_by_target_matching start!!!\n",
      "x.shape: torch.Size([20, 3, 32, 32]), target.shape: torch.Size([20, 3, 32, 32]), steps: 5, order: 4, skip_type: logSNR, lower_order_final: True\n",
      "/data/edm/scale/rbf_ecp_marginal/NFE=5,p=4,number=0.npz  saved!\n",
      "tensor(0.0283, device='cuda:0', dtype=torch.float64)\n",
      "def sample_by_target_matching start!!!\n",
      "x.shape: torch.Size([20, 3, 32, 32]), target.shape: torch.Size([20, 3, 32, 32]), steps: 5, order: 4, skip_type: logSNR, lower_order_final: True\n",
      "/data/edm/scale/rbf_ecp_marginal/NFE=5,p=4,number=0.npz  saved!\n",
      "tensor(0.0211, device='cuda:0', dtype=torch.float64)\n",
      "def sample_by_target_matching start!!!\n",
      "x.shape: torch.Size([20, 3, 32, 32]), target.shape: torch.Size([20, 3, 32, 32]), steps: 5, order: 4, skip_type: logSNR, lower_order_final: True\n",
      "/data/edm/scale/rbf_ecp_marginal/NFE=5,p=4,number=0.npz  saved!\n",
      "tensor(0.0286, device='cuda:0', dtype=torch.float64)\n",
      "def sample_by_target_matching start!!!\n",
      "x.shape: torch.Size([20, 3, 32, 32]), target.shape: torch.Size([20, 3, 32, 32]), steps: 5, order: 4, skip_type: logSNR, lower_order_final: True\n",
      "/data/edm/scale/rbf_ecp_marginal/NFE=5,p=4,number=0.npz  saved!\n",
      "tensor(0.0270, device='cuda:0', dtype=torch.float64)\n",
      "def sample_by_target_matching start!!!\n",
      "x.shape: torch.Size([20, 3, 32, 32]), target.shape: torch.Size([20, 3, 32, 32]), steps: 5, order: 4, skip_type: logSNR, lower_order_final: True\n",
      "/data/edm/scale/rbf_ecp_marginal/NFE=5,p=4,number=0.npz  saved!\n",
      "tensor(0.0344, device='cuda:0', dtype=torch.float64)\n",
      "def sample_by_target_matching start!!!\n",
      "x.shape: torch.Size([20, 3, 32, 32]), target.shape: torch.Size([20, 3, 32, 32]), steps: 5, order: 4, skip_type: logSNR, lower_order_final: True\n",
      "/data/edm/scale/rbf_ecp_marginal/NFE=5,p=4,number=0.npz  saved!\n",
      "tensor(0.0178, device='cuda:0', dtype=torch.float64)\n",
      "def sample_by_target_matching start!!!\n",
      "x.shape: torch.Size([20, 3, 32, 32]), target.shape: torch.Size([20, 3, 32, 32]), steps: 5, order: 4, skip_type: logSNR, lower_order_final: True\n",
      "/data/edm/scale/rbf_ecp_marginal/NFE=5,p=4,number=0.npz  saved!\n",
      "tensor(0.0307, device='cuda:0', dtype=torch.float64)\n",
      "def sample_by_target_matching start!!!\n",
      "x.shape: torch.Size([20, 3, 32, 32]), target.shape: torch.Size([20, 3, 32, 32]), steps: 5, order: 4, skip_type: logSNR, lower_order_final: True\n",
      "/data/edm/scale/rbf_ecp_marginal/NFE=5,p=4,number=0.npz  saved!\n",
      "tensor(0.0205, device='cuda:0', dtype=torch.float64)\n",
      "def sample_by_target_matching start!!!\n",
      "x.shape: torch.Size([20, 3, 32, 32]), target.shape: torch.Size([20, 3, 32, 32]), steps: 5, order: 4, skip_type: logSNR, lower_order_final: True\n",
      "/data/edm/scale/rbf_ecp_marginal/NFE=5,p=4,number=0.npz  saved!\n",
      "tensor(0.0224, device='cuda:0', dtype=torch.float64)\n",
      "def sample_by_target_matching start!!!\n",
      "x.shape: torch.Size([20, 3, 32, 32]), target.shape: torch.Size([20, 3, 32, 32]), steps: 5, order: 4, skip_type: logSNR, lower_order_final: True\n",
      "/data/edm/scale/rbf_ecp_marginal/NFE=5,p=4,number=0.npz  saved!\n",
      "tensor(0.0190, device='cuda:0', dtype=torch.float64)\n"
     ]
    }
   ],
   "source": [
    "import torch.nn.functional as F\n",
    "\n",
    "#for steps in [25]:\n",
    "for steps in [6]:\n",
    "    #for order in [3,]:\n",
    "    for order in [4,]:\n",
    "        for _ in range(M):\n",
    "            indexes = np.random.randint(0, len(noises), size=(K,))\n",
    "            zs = noises[indexes].to(device)\n",
    "            xs = samples[indexes].to(device)\n",
    "            zs = zs.to(torch.float64) * sigma_max\n",
    "            noise_pred_fn = model_wrapper(net, ns, None)\n",
    "            pred = sampling_fn(noise_pred_fn, zs, xs, steps, order)\n",
    "            print(F.mse_loss(pred, xs))"
   ]
  },
  {
   "cell_type": "code",
   "execution_count": null,
   "metadata": {},
   "outputs": [],
   "source": []
  },
  {
   "cell_type": "code",
   "execution_count": null,
   "metadata": {},
   "outputs": [],
   "source": []
  },
  {
   "cell_type": "code",
   "execution_count": null,
   "metadata": {},
   "outputs": [],
   "source": []
  }
 ],
 "metadata": {
  "kernelspec": {
   "display_name": "rbf",
   "language": "python",
   "name": "python3"
  },
  "language_info": {
   "codemirror_mode": {
    "name": "ipython",
    "version": 3
   },
   "file_extension": ".py",
   "mimetype": "text/x-python",
   "name": "python",
   "nbconvert_exporter": "python",
   "pygments_lexer": "ipython3",
   "version": "3.11.11"
  }
 },
 "nbformat": 4,
 "nbformat_minor": 2
}

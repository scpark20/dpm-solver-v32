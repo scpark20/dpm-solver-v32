{
 "cells": [
  {
   "cell_type": "code",
   "execution_count": 3,
   "metadata": {},
   "outputs": [],
   "source": [
    "import os\n",
    "os.chdir('../')"
   ]
  },
  {
   "cell_type": "code",
   "execution_count": 22,
   "metadata": {},
   "outputs": [
    {
     "name": "stdout",
     "output_type": "stream",
     "text": [
      "/data/archive/sd-v1-4/dpm_solver++_steps5_scale9.5 0.6793 N=10000\n",
      "/data/archive/sd-v1-4/uni_pc_bh2_steps5_scale9.5 0.6955 N=10000\n",
      "/data/archive/sd-v1-4/rbf_order2_steps5_scale9.5 0.6666 N=10000\n",
      "/data/archive/sd-v1-4/rbf_order3_steps5_scale9.5 0.6661 N=10000\n",
      "\n",
      "/data/archive/sd-v1-4/dpm_solver++_steps6_scale9.5 0.6471 N=10000\n",
      "/data/archive/sd-v1-4/uni_pc_bh2_steps6_scale9.5 0.6659 N=10000\n",
      "/data/archive/sd-v1-4/rbf_order2_steps6_scale9.5 0.6347 N=10000\n",
      "/data/archive/sd-v1-4/rbf_order3_steps6_scale9.5 0.6327 N=10000\n",
      "\n",
      "/data/archive/sd-v1-4/dpm_solver++_steps8_scale9.5 0.5950 N=10000\n",
      "/data/archive/sd-v1-4/uni_pc_bh2_steps8_scale9.5 0.6160 N=10000\n",
      "/data/archive/sd-v1-4/rbf_order2_steps8_scale9.5 0.5859 N=10000\n",
      "/data/archive/sd-v1-4/rbf_order3_steps8_scale9.5 0.5842 N=10000\n",
      "\n",
      "/data/archive/sd-v1-4/dpm_solver++_steps10_scale9.5 0.5525 N=10000\n",
      "/data/archive/sd-v1-4/uni_pc_bh2_steps10_scale9.5 0.5715 N=10000\n",
      "/data/archive/sd-v1-4/rbf_order2_steps10_scale9.5 0.5487 N=10000\n",
      "/data/archive/sd-v1-4/rbf_order3_steps10_scale9.5 0.5462 N=10000\n",
      "\n",
      "/data/archive/sd-v1-4/dpm_solver++_steps12_scale9.5 0.5169 N=10000\n",
      "/data/archive/sd-v1-4/uni_pc_bh2_steps12_scale9.5 0.5337 N=10000\n",
      "/data/archive/sd-v1-4/rbf_order2_steps12_scale9.5 0.5193 N=10000\n",
      "/data/archive/sd-v1-4/rbf_order3_steps12_scale9.5 0.5147 N=10000\n",
      "\n",
      "/data/archive/sd-v1-4/dpm_solver++_steps15_scale9.5 0.4717 N=10000\n",
      "/data/archive/sd-v1-4/uni_pc_bh2_steps15_scale9.5 0.4850 N=10000\n",
      "/data/archive/sd-v1-4/rbf_order2_steps15_scale9.5 0.4757 N=10000\n",
      "/data/archive/sd-v1-4/rbf_order3_steps15_scale9.5 0.4724 N=10000\n",
      "\n",
      "/data/archive/sd-v1-4/dpm_solver++_steps20_scale9.5 0.4108 N=10000\n",
      "/data/archive/sd-v1-4/uni_pc_bh2_steps20_scale9.5 0.4183 N=10000\n",
      "/data/archive/sd-v1-4/rbf_order2_steps20_scale9.5 0.4152 N=10000\n",
      "/data/archive/sd-v1-4/rbf_order3_steps20_scale9.5 0.4142 N=10000\n",
      "\n"
     ]
    }
   ],
   "source": [
    "import numpy as np\n",
    "import torch\n",
    "import torch.nn.functional as F\n",
    "from tqdm import tqdm\n",
    "\n",
    "root_dir = '/data/archive/sd-v1-4'\n",
    "models = ['dpm_solver++', 'uni_pc_bh2', 'dpm_solver_v3', 'rbf_order2', 'rbf_order3']\n",
    "steps = [5, 6, 8, 10, 12, 15, 20]\n",
    "scales= [9.5]\n",
    "\n",
    "for scale in scales:\n",
    "    ref_dir = os.path.join(root_dir, f'dpm_solver++_steps200_scale{scale}')\n",
    "    for step in steps:\n",
    "        for model in models:\n",
    "            comp_dir = os.path.join(root_dir, f'{model}_steps{step}_scale{scale}')\n",
    "            if not os.path.exists(comp_dir):\n",
    "                continue\n",
    "                \n",
    "            mse_list = []\n",
    "            for i in range(2000):\n",
    "                ref_file = os.path.join(ref_dir, f\"{i}.pt\")\n",
    "                comp_file = os.path.join(comp_dir, f\"{i}.pt\")\n",
    "                if not os.path.exists(ref_file) or not os.path.exists(comp_file):\n",
    "                    continue\n",
    "                ref_data = torch.load(ref_file)\n",
    "                comp_data = torch.load(comp_file)\n",
    "                mses = torch.sqrt(torch.mean((ref_data['image'] - comp_data['image']) ** 2, dim=[1, 2, 3]))\n",
    "                mse_list.append(mses)\n",
    "            mses = torch.cat(mse_list, dim=0)\n",
    "            print(comp_dir, f\"{torch.mean(mses).item():.4f}\", f'N={len(mses)}')\n",
    "        print(\"\")\n",
    "            "
   ]
  },
  {
   "cell_type": "code",
   "execution_count": null,
   "metadata": {},
   "outputs": [],
   "source": []
  }
 ],
 "metadata": {
  "kernelspec": {
   "display_name": "rbf",
   "language": "python",
   "name": "python3"
  },
  "language_info": {
   "codemirror_mode": {
    "name": "ipython",
    "version": 3
   },
   "file_extension": ".py",
   "mimetype": "text/x-python",
   "name": "python",
   "nbconvert_exporter": "python",
   "pygments_lexer": "ipython3",
   "version": "3.11.11"
  }
 },
 "nbformat": 4,
 "nbformat_minor": 2
}

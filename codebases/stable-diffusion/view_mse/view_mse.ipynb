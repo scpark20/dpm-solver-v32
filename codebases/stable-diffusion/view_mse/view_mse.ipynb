{
 "cells": [
  {
   "cell_type": "code",
   "execution_count": 1,
   "metadata": {},
   "outputs": [],
   "source": [
    "import os\n",
    "os.chdir('../')"
   ]
  },
  {
   "cell_type": "code",
   "execution_count": 7,
   "metadata": {},
   "outputs": [
    {
     "name": "stdout",
     "output_type": "stream",
     "text": [
      "/data/archive/sd-v1-4/uni_pc_bh1_steps5_scale7.5 N=5000\n",
      "0.391\n",
      "/data/archive/sd-v1-4/uni_pc_bh2_steps5_scale7.5 N=5000\n",
      "0.351\n",
      "/data/archive/sd-v1-4/dpm_solver_v3_steps5_scale7.5 N=5000\n",
      "0.410\n",
      "\n",
      "/data/archive/sd-v1-4/uni_pc_bh1_steps10_scale7.5 N=5000\n",
      "0.249\n",
      "/data/archive/sd-v1-4/uni_pc_bh2_steps10_scale7.5 N=5000\n",
      "0.238\n",
      "/data/archive/sd-v1-4/dpm_solver_v3_steps10_scale7.5 N=5000\n",
      "0.244\n",
      "\n",
      "/data/archive/sd-v1-4/uni_pc_bh1_steps15_scale7.5 N=5000\n",
      "0.176\n",
      "/data/archive/sd-v1-4/uni_pc_bh2_steps15_scale7.5 N=5000\n",
      "0.172\n",
      "/data/archive/sd-v1-4/dpm_solver_v3_steps15_scale7.5 N=5000\n",
      "0.170\n",
      "\n",
      "/data/archive/sd-v1-4/uni_pc_bh1_steps20_scale7.5 N=5000\n",
      "0.128\n",
      "/data/archive/sd-v1-4/uni_pc_bh2_steps20_scale7.5 N=5000\n",
      "0.126\n",
      "/data/archive/sd-v1-4/dpm_solver_v3_steps20_scale7.5 N=5000\n",
      "0.126\n",
      "\n",
      "/data/archive/sd-v1-4/uni_pc_bh1_steps25_scale7.5 N=5000\n",
      "0.097\n",
      "/data/archive/sd-v1-4/uni_pc_bh2_steps25_scale7.5 N=5000\n",
      "0.097\n",
      "/data/archive/sd-v1-4/dpm_solver_v3_steps25_scale7.5 N=5000\n",
      "0.101\n",
      "\n",
      "/data/archive/sd-v1-4/uni_pc_bh1_steps30_scale7.5 N=5000\n",
      "0.074\n",
      "/data/archive/sd-v1-4/uni_pc_bh2_steps30_scale7.5 N=5000\n",
      "0.074\n",
      "/data/archive/sd-v1-4/dpm_solver_v3_steps30_scale7.5 N=5000\n",
      "0.079\n",
      "\n",
      "/data/archive/sd-v1-4/uni_pc_bh1_steps35_scale7.5 N=5000\n",
      "0.057\n",
      "/data/archive/sd-v1-4/uni_pc_bh2_steps35_scale7.5 N=5000\n",
      "0.057\n",
      "/data/archive/sd-v1-4/dpm_solver_v3_steps35_scale7.5 N=5000\n",
      "0.067\n",
      "\n",
      "/data/archive/sd-v1-4/uni_pc_bh1_steps40_scale7.5 N=5000\n",
      "0.044\n",
      "/data/archive/sd-v1-4/uni_pc_bh2_steps40_scale7.5 N=5000\n",
      "0.045\n",
      "/data/archive/sd-v1-4/dpm_solver_v3_steps40_scale7.5 N=5000\n",
      "0.054\n",
      "\n"
     ]
    }
   ],
   "source": [
    "import numpy as np\n",
    "import torch\n",
    "import torch.nn.functional as F\n",
    "\n",
    "#root_dir = 'outputs/sd-v1-4'\n",
    "root_dir = '/data/archive/sd-v1-4'\n",
    "#ref_dir = os.path.join(root_dir, 'uni_pc_bh2_steps200_scale7.5')\n",
    "#ref_dir = os.path.join(root_dir, 'dpm_solver_v3_steps5_scale7.5')\n",
    "ref_dir = os.path.join(root_dir, 'dpm_solver++_steps200_scale7.5')\n",
    "models = ['uni_pc_bh1', 'uni_pc_bh2', 'dpm_solver_v3']\n",
    "steps = [5, 10, 15, 20, 25, 30, 35, 40]\n",
    "scales= [7.5]\n",
    "\n",
    "for scale in scales:\n",
    "    for step in steps:\n",
    "        for model in models:\n",
    "            comp_dir = os.path.join(root_dir, f'{model}_steps{step}_scale{scale}')\n",
    "            if not os.path.exists(comp_dir):\n",
    "                continue\n",
    "                \n",
    "            mse_list = []\n",
    "            for i in range(1000):\n",
    "                ref_file = os.path.join(ref_dir, f\"{i}.pt\")\n",
    "                comp_file = os.path.join(comp_dir, f\"{i}.pt\")\n",
    "                if not os.path.exists(ref_file) or not os.path.exists(comp_file):\n",
    "                    continue\n",
    "                ref_data = torch.load(ref_file)\n",
    "                comp_data = torch.load(comp_file)\n",
    "                mses = torch.mean((ref_data['image'] - comp_data['image']) ** 2, dim=[1, 2, 3])\n",
    "                mse_list.append(mses)\n",
    "            mses = torch.cat(mse_list, dim=0)\n",
    "            print(comp_dir, f'N={len(mses)}')\n",
    "            print(f\"{torch.mean(mses).item():.3f}\")\n",
    "        print(\"\")\n",
    "            "
   ]
  },
  {
   "cell_type": "code",
   "execution_count": 5,
   "metadata": {},
   "outputs": [
    {
     "name": "stdout",
     "output_type": "stream",
     "text": [
      "dpm_solver++_steps200_scale7.5\tuni_pc_bh1_steps25_scale7.5\n",
      "dpm_solver_v3_steps10_scale7.5\tuni_pc_bh1_steps5_scale7.5\n",
      "dpm_solver_v3_steps15_scale7.5\tuni_pc_bh2_order1_steps1000_scale7.5\n",
      "dpm_solver_v3_steps20_scale7.5\tuni_pc_bh2_steps10_scale7.5\n",
      "dpm_solver_v3_steps25_scale7.5\tuni_pc_bh2_steps15_scale7.5\n",
      "dpm_solver_v3_steps5_scale7.5\tuni_pc_bh2_steps200_scale7.5\n",
      "uni_pc_bh1_steps10_scale7.5\tuni_pc_bh2_steps20_scale7.5\n",
      "uni_pc_bh1_steps15_scale7.5\tuni_pc_bh2_steps25_scale7.5\n",
      "uni_pc_bh1_steps20_scale7.5\tuni_pc_bh2_steps5_scale7.5\n"
     ]
    }
   ],
   "source": [
    "!ls /data/archive/sd-v1-4"
   ]
  },
  {
   "cell_type": "code",
   "execution_count": null,
   "metadata": {},
   "outputs": [],
   "source": []
  }
 ],
 "metadata": {
  "kernelspec": {
   "display_name": "rbf",
   "language": "python",
   "name": "python3"
  },
  "language_info": {
   "codemirror_mode": {
    "name": "ipython",
    "version": 3
   },
   "file_extension": ".py",
   "mimetype": "text/x-python",
   "name": "python",
   "nbconvert_exporter": "python",
   "pygments_lexer": "ipython3",
   "version": "3.11.11"
  }
 },
 "nbformat": 4,
 "nbformat_minor": 2
}

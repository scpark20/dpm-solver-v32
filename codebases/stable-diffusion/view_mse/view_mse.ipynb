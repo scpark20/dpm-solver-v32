{
 "cells": [
  {
   "cell_type": "code",
   "execution_count": 1,
   "metadata": {},
   "outputs": [],
   "source": [
    "import os\n",
    "os.chdir('../')"
   ]
  },
  {
   "cell_type": "code",
   "execution_count": null,
   "metadata": {},
   "outputs": [
    {
     "name": "stdout",
     "output_type": "stream",
     "text": [
      "outputs/sd-v1-4/uni_pc_bh1_steps5_scale7.5\n",
      "0.423\n",
      "outputs/sd-v1-4/uni_pc_bh2_steps5_scale7.5\n",
      "0.369\n",
      "outputs/sd-v1-4/dpm_solver_v3_steps5_scale7.5\n",
      "0.416\n"
     ]
    }
   ],
   "source": [
    "import numpy as np\n",
    "import torch\n",
    "import torch.nn.functional as F\n",
    "\n",
    "root_dir = 'outputs/sd-v1-4'\n",
    "#ref_dir = os.path.join(root_dir, 'uni_pc_bh2_steps200_scale7.5')\n",
    "#ref_dir = os.path.join(root_dir, 'dpm_solver_v3_steps5_scale7.5')\n",
    "ref_dir = os.path.join(root_dir, 'dpm_solver++_steps200_scale7.5')\n",
    "models = ['uni_pc_bh1', 'uni_pc_bh2', 'dpm_solver_v3']\n",
    "steps = [5, 10, 15, 20, 25, 30, 35, 40]\n",
    "scales= [7.5]\n",
    "\n",
    "for scale in scales:\n",
    "    for step in steps:\n",
    "        for model in models:\n",
    "            comp_dir = os.path.join(root_dir, f'{model}_steps{step}_scale{scale}')\n",
    "            if not os.path.exists(comp_dir):\n",
    "                continue\n",
    "                \n",
    "            mse_list = []\n",
    "            for i in range(10000):\n",
    "                ref_file = os.path.join(ref_dir, f\"{i}.pt\")\n",
    "                comp_file = os.path.join(comp_dir, f\"{i}.pt\")\n",
    "                if not os.path.exists(ref_file) or not os.path.exists(comp_file):\n",
    "                    continue\n",
    "                ref_data = torch.load(ref_file)\n",
    "                comp_data = torch.load(comp_file)\n",
    "                mses = torch.mean((ref_data['image'] - comp_data['image']) ** 2, dim=[1, 2, 3])\n",
    "                mse_list.append(mses)\n",
    "            mses = torch.cat(mse_list, dim=0)\n",
    "            print(comp_dir, f'N={len(mses)}')\n",
    "            print(f\"{torch.mean(mses).item():.3f}\")\n",
    "        print(\"\")\n",
    "            "
   ]
  },
  {
   "cell_type": "code",
   "execution_count": null,
   "metadata": {},
   "outputs": [],
   "source": []
  }
 ],
 "metadata": {
  "kernelspec": {
   "display_name": "rbf",
   "language": "python",
   "name": "python3"
  },
  "language_info": {
   "codemirror_mode": {
    "name": "ipython",
    "version": 3
   },
   "file_extension": ".py",
   "mimetype": "text/x-python",
   "name": "python",
   "nbconvert_exporter": "python",
   "pygments_lexer": "ipython3",
   "version": "3.11.11"
  }
 },
 "nbformat": 4,
 "nbformat_minor": 2
}

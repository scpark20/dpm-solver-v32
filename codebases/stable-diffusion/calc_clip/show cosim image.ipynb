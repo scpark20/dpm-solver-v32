{
 "cells": [
  {
   "cell_type": "code",
   "execution_count": 8,
   "metadata": {},
   "outputs": [
    {
     "data": {
      "text/plain": [
       "torch.Size([10000, 512])"
      ]
     },
     "execution_count": 8,
     "metadata": {},
     "output_type": "execute_result"
    }
   ],
   "source": [
    "import os\n",
    "import torch\n",
    "\n",
    "root_dir = '/data/archive/sd-v1-4'\n",
    "model_name = 'dpm_solver++'\n",
    "steps = 200\n",
    "scale = 1.5\n",
    "path = os.path.join(root_dir, f\"{model_name}_steps{steps}_scale{scale}_clip\")\n",
    "\n",
    "def get_features(pt_dir):\n",
    "    pt_files = sorted([os.path.join(path, f) for f in os.listdir(path)])\n",
    "    features = []\n",
    "    for file in pt_files[:2000]:\n",
    "        data = torch.load(file)\n",
    "        image_features = data['image_features'].cpu()\n",
    "        features.append(image_features)\n",
    "\n",
    "    features = torch.cat(features)\n",
    "    return features\n",
    "\n",
    "ref_features = get_features(path)\n",
    "ref_features.shape"
   ]
  },
  {
   "cell_type": "code",
   "execution_count": 16,
   "metadata": {},
   "outputs": [
    {
     "name": "stdout",
     "output_type": "stream",
     "text": [
      "1.5\n",
      "dpm_solver++ ['0.8579', '0.8906', '0.9263', '0.9453', '0.9570', '0.9688', '0.9800']\n",
      "uni_pc_bh2 ['0.8789', '0.9092', '0.9404', '0.9575', '0.9688', '0.9790', '0.9878']\n",
      "dpm_solver_v3 ['0.9116', '0.9316', '0.9561', '0.9702', '0.9800', '0.9873', '0.9937']\n",
      "rbf_order2 ['0.8887', '0.9165', '0.9453', '0.9614', '0.9717', '0.9810', '0.9888']\n",
      "rbf_order3 ['0.8926', '0.9199', '0.9468', '0.9629', '0.9731', '0.9814', '0.9893']\n",
      "\n",
      "3.5\n",
      "dpm_solver++ ['0.8291', '0.8369', '0.8418', '0.8428', '0.8428', '0.8428', '0.8423']\n",
      "uni_pc_bh2 ['0.8340', '0.8389', '0.8408', '0.8413', '0.8413', '0.8408', '0.8408']\n",
      "rbf_order2 ['0.8359', '0.8394', '0.8408', '0.8408', '0.8403', '0.8398', '0.8398']\n",
      "rbf_order3 ['0.8364', '0.8394', '0.8403', '0.8403', '0.8398', '0.8389', '0.8394']\n",
      "\n",
      "5.5\n",
      "dpm_solver++ ['0.7983', '0.8027', '0.8052', '0.8057', '0.8057', '0.8052', '0.8052']\n",
      "uni_pc_bh2 ['0.8003', '0.8032', '0.8047', '0.8047', '0.8047', '0.8037', '0.8042']\n",
      "rbf_order2 ['0.8008', '0.8037', '0.8047', '0.8042', '0.8042', '0.8037', '0.8037']\n",
      "rbf_order3 ['0.8008', '0.8037', '0.8052', '0.8047', '0.8042', '0.8037', '0.8032']\n",
      "\n",
      "9.5\n",
      "dpm_solver++ ['0.7632', '0.7690', '0.7744', '0.7764', '0.7769', '0.7773', '0.7773']\n",
      "uni_pc_bh2 ['0.7603', '0.7666', '0.7729', '0.7749', '0.7759', '0.7759', '0.7764']\n",
      "rbf_order2 ['0.7632', '0.7710', '0.7759', '0.7773', '0.7773', '0.7773', '0.7769']\n",
      "rbf_order3 ['0.7637', '0.7705', '0.7754', '0.7773', '0.7773', '0.7773', '0.7769']\n",
      "\n"
     ]
    }
   ],
   "source": [
    "import os\n",
    "import torch\n",
    "import torch.nn.functional as F\n",
    "\n",
    "root_dir = '/data/archive/sd-v1-4'\n",
    "scales = [1.5, 3.5, 5.5, 9.5]\n",
    "steps_list = [5, 6, 8, 10, 12, 15, 20]\n",
    "model_names = ['dpm_solver++', 'uni_pc_bh2', 'dpm_solver_v3', 'rbf_order2', 'rbf_order3']\n",
    "\n",
    "for scale in scales:  \n",
    "    print(scale)  \n",
    "    for model_name in model_names:\n",
    "        cosims = []\n",
    "        for steps in steps_list:\n",
    "            path = os.path.join(root_dir, f\"{model_name}_steps{steps}_scale{scale}_clip\")\n",
    "            if os.path.exists(path):\n",
    "                comp_features = get_features(path)\n",
    "                cosim = torch.mean(F.cosine_similarity(ref_features, comp_features)).item()\n",
    "                cosims.append(f\"{cosim:0.4f}\")\n",
    "        if len(cosims) > 0:\n",
    "            print(model_name, cosims)\n",
    "    print()"
   ]
  },
  {
   "cell_type": "code",
   "execution_count": null,
   "metadata": {},
   "outputs": [],
   "source": []
  }
 ],
 "metadata": {
  "kernelspec": {
   "display_name": "rbf",
   "language": "python",
   "name": "python3"
  },
  "language_info": {
   "codemirror_mode": {
    "name": "ipython",
    "version": 3
   },
   "file_extension": ".py",
   "mimetype": "text/x-python",
   "name": "python",
   "nbconvert_exporter": "python",
   "pygments_lexer": "ipython3",
   "version": "3.11.11"
  }
 },
 "nbformat": 4,
 "nbformat_minor": 2
}

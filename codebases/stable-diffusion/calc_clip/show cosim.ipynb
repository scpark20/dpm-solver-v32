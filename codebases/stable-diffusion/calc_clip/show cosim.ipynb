{
 "cells": [
  {
   "cell_type": "code",
   "execution_count": 1,
   "metadata": {},
   "outputs": [
    {
     "name": "stdout",
     "output_type": "stream",
     "text": [
      "tensor(0.2874, dtype=torch.float16) 10030\n",
      "tensor(0.3069, dtype=torch.float16) 10030\n",
      "tensor(0.3105, dtype=torch.float16) 10030\n",
      "tensor(0.3120, dtype=torch.float16) 10030\n",
      "tensor(0.3127, dtype=torch.float16) 10030\n"
     ]
    }
   ],
   "source": [
    "import os\n",
    "import torch\n",
    "\n",
    "root_dir = '/data/archive/sd-v1-4'\n",
    "model_name = 'dpm_solver++'\n",
    "steps = 200\n",
    "\n",
    "for scale in [1.5, 3.5, 5.5, 7.5, 9.5]:\n",
    "    path = os.path.join(root_dir, f\"{model_name}_steps{steps}_scale{scale}_clip\")\n",
    "    pt_files = [os.path.join(path, f) for f in os.listdir(path)]\n",
    "\n",
    "    cosims = []\n",
    "    for file in pt_files:\n",
    "        data = torch.load(file)\n",
    "        cosim = data['cosim'].cpu()\n",
    "        cosims.append(cosim)\n",
    "        image_features = data['image_features'].cpu()\n",
    "\n",
    "    cosims = torch.cat(cosims, dim=0)\n",
    "    print(torch.mean(cosims), len(cosims))"
   ]
  },
  {
   "cell_type": "code",
   "execution_count": 6,
   "metadata": {},
   "outputs": [
    {
     "name": "stdout",
     "output_type": "stream",
     "text": [
      "1.5\n",
      "dpm_solver++\n",
      "['0.2812', '0.2842', '0.2864', '0.2869', '0.2874', '0.2874', '0.2876']\n",
      "uni_pc_bh2\n",
      "['0.2832', '0.2856', '0.2871', '0.2876', '0.2876', '0.2878', '0.2878']\n",
      "rbf_order2\n",
      "['0.2842', '0.2864', '0.2876', '0.2878', '0.2881', '0.2881', '0.2881']\n",
      "rbf_order3\n",
      "['0.2847', '0.2869', '0.2876', '0.2881', '0.2881', '0.2881', '0.2881']\n",
      "3.5\n",
      "dpm_solver++\n",
      "['0.3049', '0.3059', '0.3064', '0.3066', '0.3069', '0.3069', '0.3069']\n",
      "uni_pc_bh2\n",
      "['0.3052', '0.3059', '0.3064', '0.3066', '0.3069', '0.3069', '0.3069']\n",
      "rbf_order2\n",
      "['0.3052', '0.3057', '0.3062', '0.3064', '0.3066', '0.3066', '0.3069']\n",
      "rbf_order3\n",
      "['0.3052', '0.3057', '0.3062', '0.3062', '0.3064', '0.3066', '0.3066']\n",
      "5.5\n",
      "dpm_solver++\n",
      "['0.3091', '0.3096', '0.3098', '0.3103', '0.3103', '0.3103', '0.3105']\n",
      "uni_pc_bh2\n",
      "['0.3086', '0.3091', '0.3096', '0.3098', '0.3101', '0.3103', '0.3105']\n",
      "rbf_order2\n",
      "['0.3086', '0.3091', '0.3096', '0.3098', '0.3101', '0.3103', '0.3103']\n",
      "rbf_order3\n",
      "['0.3086', '0.3091', '0.3096', '0.3098', '0.3101', '0.3103', '0.3103']\n",
      "9.5\n",
      "dpm_solver++\n",
      "['0.3069', '0.3093', '0.3110', '0.3115', '0.3120', '0.3125', '0.3125']\n",
      "uni_pc_bh2\n",
      "['0.3052', '0.3079', '0.3103', '0.3110', '0.3118', '0.3120', '0.3123']\n",
      "rbf_order2\n",
      "['0.3083', '0.3101', '0.3118', '0.3120', '0.3123', '0.3125', '0.3125']\n",
      "rbf_order3\n",
      "['0.3083', '0.3103', '0.3118', '0.3120', '0.3123', '0.3125', '0.3125']\n"
     ]
    }
   ],
   "source": [
    "import os\n",
    "import torch\n",
    "\n",
    "root_dir = '/data/archive/sd-v1-4'\n",
    "scales = [1.5, 3.5, 5.5, 9.5]\n",
    "#scales = [9.5]\n",
    "steps_list = [5, 6, 8, 10, 12, 15, 20]\n",
    "#steps_list = [5]\n",
    "model_names = ['dpm_solver++', 'uni_pc_bh2', 'rbf_order2', 'rbf_order3']\n",
    "#model_names = ['rbf_order3']\n",
    "\n",
    "for scale in scales:    \n",
    "    print(scale)\n",
    "    for model_name in model_names:\n",
    "        print(model_name)\n",
    "        cosims_list = []\n",
    "        for steps in steps_list:\n",
    "            path = os.path.join(root_dir, f\"{model_name}_steps{steps}_scale{scale}_clip\")\n",
    "            if os.path.exists(path):\n",
    "                pt_files = [os.path.join(path, f) for f in os.listdir(path)]\n",
    "                if len(pt_files) == 0:\n",
    "                    continue\n",
    "\n",
    "                cosims = []\n",
    "                for file in pt_files:\n",
    "                    data = torch.load(file)\n",
    "                    cosim = data['cosim'].cpu()\n",
    "                    cosims.append(cosim)\n",
    "                    image_features = data['image_features'].cpu()\n",
    "\n",
    "                cosims = torch.cat(cosims, dim=0)\n",
    "                cosims_list.append(f\"{torch.mean(cosims).item():0.4f}\")\n",
    "        print(cosims_list)"
   ]
  },
  {
   "cell_type": "code",
   "execution_count": null,
   "metadata": {},
   "outputs": [],
   "source": []
  }
 ],
 "metadata": {
  "kernelspec": {
   "display_name": "rbf",
   "language": "python",
   "name": "python3"
  },
  "language_info": {
   "codemirror_mode": {
    "name": "ipython",
    "version": 3
   },
   "file_extension": ".py",
   "mimetype": "text/x-python",
   "name": "python",
   "nbconvert_exporter": "python",
   "pygments_lexer": "ipython3",
   "version": "3.11.11"
  }
 },
 "nbformat": 4,
 "nbformat_minor": 2
}

{
 "cells": [
  {
   "cell_type": "code",
   "execution_count": 24,
   "metadata": {},
   "outputs": [
    {
     "name": "stdout",
     "output_type": "stream",
     "text": [
      "tensor(0.2874, dtype=torch.float16) 10030\n",
      "tensor(0.3069, dtype=torch.float16) 10030\n",
      "tensor(0.3105, dtype=torch.float16) 10030\n",
      "tensor(0.3120, dtype=torch.float16) 10030\n",
      "tensor(0.3127, dtype=torch.float16) 10030\n"
     ]
    }
   ],
   "source": [
    "import os\n",
    "import torch\n",
    "\n",
    "root_dir = '/data/archive/sd-v1-4'\n",
    "model_name = 'dpm_solver++'\n",
    "steps = 200\n",
    "\n",
    "for scale in [1.5, 3.5, 5.5, 7.5, 9.5]:\n",
    "    path = os.path.join(root_dir, f\"{model_name}_steps{steps}_scale{scale}_clip\")\n",
    "    pt_files = [os.path.join(path, f) for f in os.listdir(path)]\n",
    "\n",
    "    cosims = []\n",
    "    for file in pt_files:\n",
    "        data = torch.load(file)\n",
    "        cosim = data['cosim'].cpu()\n",
    "        cosims.append(cosim)\n",
    "        image_features = data['image_features'].cpu()\n",
    "\n",
    "    cosims = torch.cat(cosims, dim=0)\n",
    "    print(torch.mean(cosims), len(cosims))"
   ]
  },
  {
   "cell_type": "code",
   "execution_count": null,
   "metadata": {},
   "outputs": [
    {
     "name": "stdout",
     "output_type": "stream",
     "text": [
      "/data/archive/sd-v1-4/dpm_solver++_steps5_scale1.5_clip\n",
      "0.2812 10030\n",
      "/data/archive/sd-v1-4/dpm_solver++_steps6_scale1.5_clip\n",
      "0.2842 10030\n",
      "/data/archive/sd-v1-4/dpm_solver++_steps8_scale1.5_clip\n",
      "0.2864 10030\n",
      "/data/archive/sd-v1-4/dpm_solver++_steps10_scale1.5_clip\n",
      "0.2869 10030\n"
     ]
    }
   ],
   "source": [
    "import os\n",
    "import torch\n",
    "\n",
    "root_dir = '/data/archive/sd-v1-4'\n",
    "for scale in [1.5, 3.5, 5.5, 7.5, 9.5]:\n",
    "    if scale in [1.5, 7.5]:\n",
    "        model_names = ['dpm_solver++', 'uni_pc_bh2', 'dpm_solver_v3', 'rbf_order2', 'rbf_order3']\n",
    "    else:\n",
    "        model_names = ['dpm_solver++', 'uni_pc_bh2', 'rbf_order2', 'rbf_order3']\n",
    "\n",
    "    for model_name in model_names:\n",
    "        for steps in [5, 6, 8, 10, 12, 15, 20]:\n",
    "            path = os.path.join(root_dir, f\"{model_name}_steps{steps}_scale{scale}_clip\")\n",
    "            if os.path.exists(path):\n",
    "                pt_files = [os.path.join(path, f) for f in os.listdir(path)]\n",
    "                if len(pt_files) == 0:\n",
    "                    continue\n",
    "\n",
    "                cosims = []\n",
    "                for file in pt_files:\n",
    "                    data = torch.load(file)\n",
    "                    cosim = data['cosim'].cpu()\n",
    "                    cosims.append(cosim)\n",
    "                    image_features = data['image_features'].cpu()\n",
    "\n",
    "                cosims = torch.cat(cosims, dim=0)\n",
    "                print(path)\n",
    "                print(f\"{torch.mean(cosims).item():0.4f}\", len(cosims))"
   ]
  },
  {
   "cell_type": "code",
   "execution_count": null,
   "metadata": {},
   "outputs": [],
   "source": []
  }
 ],
 "metadata": {
  "kernelspec": {
   "display_name": "rbf",
   "language": "python",
   "name": "python3"
  },
  "language_info": {
   "codemirror_mode": {
    "name": "ipython",
    "version": 3
   },
   "file_extension": ".py",
   "mimetype": "text/x-python",
   "name": "python",
   "nbconvert_exporter": "python",
   "pygments_lexer": "ipython3",
   "version": "3.11.11"
  }
 },
 "nbformat": 4,
 "nbformat_minor": 2
}

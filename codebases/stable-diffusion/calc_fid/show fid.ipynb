{
 "cells": [
  {
   "cell_type": "code",
   "execution_count": 8,
   "metadata": {},
   "outputs": [
    {
     "name": "stderr",
     "output_type": "stream",
     "text": [
      "Loading features: 100%|██████████| 2006/2006 [00:00<00:00, 13749.95it/s]\n"
     ]
    },
    {
     "data": {
      "text/plain": [
       "(tensor([0.3827, 0.3682, 0.3793,  ..., 0.3910, 0.3928, 0.3497]),\n",
       " tensor([[ 0.1114,  0.0109,  0.0161,  ...,  0.0047, -0.0055,  0.0012],\n",
       "         [ 0.0109,  0.0798, -0.0061,  ..., -0.0091, -0.0051,  0.0043],\n",
       "         [ 0.0161, -0.0061,  0.1206,  ..., -0.0036,  0.0170,  0.0121],\n",
       "         ...,\n",
       "         [ 0.0047, -0.0091, -0.0036,  ...,  0.1493,  0.0297, -0.0035],\n",
       "         [-0.0055, -0.0051,  0.0170,  ...,  0.0297,  0.1531, -0.0046],\n",
       "         [ 0.0012,  0.0043,  0.0121,  ..., -0.0035, -0.0046,  0.1085]]))"
      ]
     },
     "execution_count": 8,
     "metadata": {},
     "output_type": "execute_result"
    }
   ],
   "source": [
    "import os, torch, numpy as np\n",
    "from tqdm import tqdm\n",
    "\n",
    "def calc_fid_statistics(pt_dir: str, key: str = \"inception_feats\"):\n",
    "    \"\"\"\n",
    "    pt_dir 안의 *.pt 파일에서 특징 벡터를 모아 평균(μ)·공분산(Σ)을 계산해 반환.\n",
    "    반환값\n",
    "      μ: (2048,)   torch.Tensor (float32)\n",
    "      Σ: (2048,2048)  torch.Tensor (float32)\n",
    "    \"\"\"\n",
    "    files = [os.path.join(pt_dir, f) for f in os.listdir(pt_dir) if f.endswith(\".pt\")]\n",
    "    if not files:\n",
    "        raise FileNotFoundError(f\"No .pt files in {pt_dir}\")\n",
    "\n",
    "    feats = []\n",
    "    for f in tqdm(files, desc=\"Loading features\"):\n",
    "        data = torch.load(f, map_location=\"cpu\")[key].float()   # (Nᵢ,2048)\n",
    "        feats.append(data)\n",
    "    feats = torch.cat(feats, dim=0)                             # (N_total,2048)\n",
    "\n",
    "    mu = feats.mean(dim=0)                                      # (2048,)\n",
    "    sigma = torch.cov(feats.T)                                  # (2048,2048)\n",
    "    return mu, sigma\n",
    "\n",
    "mu, sigma = calc_fid_statistics('/data/archive/sd-v1-4/dpm_solver++_steps200_scale1.5_fid')\n",
    "mu, sigma"
   ]
  }
 ],
 "metadata": {
  "kernelspec": {
   "display_name": "rbf",
   "language": "python",
   "name": "python3"
  },
  "language_info": {
   "codemirror_mode": {
    "name": "ipython",
    "version": 3
   },
   "file_extension": ".py",
   "mimetype": "text/x-python",
   "name": "python",
   "nbconvert_exporter": "python",
   "pygments_lexer": "ipython3",
   "version": "3.11.11"
  }
 },
 "nbformat": 4,
 "nbformat_minor": 2
}

{
 "cells": [
  {
   "cell_type": "code",
   "execution_count": 23,
   "metadata": {},
   "outputs": [
    {
     "name": "stdout",
     "output_type": "stream",
     "text": [
      "DPM-Solver-v3 5 FID  : 12.76081657409668\n",
      "DPM-Solver-v3 6 FID  : 7.397051811218262\n",
      "DPM-Solver-v3 8 FID  : 3.9339659214019775\n",
      "DPM-Solver-v3 10 FID  : 3.399141788482666\n",
      "DPM-Solver-v3 12 FID  : 3.23158860206604\n",
      "DPM-Solver-v3 15 FID  : 2.899169921875\n",
      "DPM-Solver-v3 20 FID  : 2.695845365524292\n",
      "DPM-Solver-v3 25 FID  : 2.626286029815674\n",
      "DPM-Solver-v3 30 FID  : 2.58978271484375\n",
      "DPM-Solver-v3 40 FID  : 2.578953742980957\n",
      "\n"
     ]
    }
   ],
   "source": [
    "import os\n",
    "models = ['DPM-Solver-v3',\n",
    "         ]\n",
    "steps = [5, 6, 8, 10, 12, 15, 20, 25, 30, 35, 40]\n",
    "\n",
    "root_dir = ''\n",
    "for model in models:\n",
    "    for step in steps:\n",
    "        fid_file = os.path.join(root_dir, f'{model}_{step}_output.txt')\n",
    "        if not os.path.exists(fid_file):\n",
    "            continue\n",
    "        with open(fid_file, 'r') as f:\n",
    "            _, _, fid = f.readlines()\n",
    "            print(model, step, fid.strip())\n",
    "    print()"
   ]
  },
  {
   "cell_type": "code",
   "execution_count": null,
   "metadata": {},
   "outputs": [],
   "source": []
  }
 ],
 "metadata": {
  "kernelspec": {
   "display_name": "rbf",
   "language": "python",
   "name": "python3"
  },
  "language_info": {
   "codemirror_mode": {
    "name": "ipython",
    "version": 3
   },
   "file_extension": ".py",
   "mimetype": "text/x-python",
   "name": "python",
   "nbconvert_exporter": "python",
   "pygments_lexer": "ipython3",
   "version": "3.11.11"
  }
 },
 "nbformat": 4,
 "nbformat_minor": 2
}

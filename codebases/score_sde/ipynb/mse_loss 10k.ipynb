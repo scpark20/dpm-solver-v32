{
 "cells": [
  {
   "cell_type": "code",
   "execution_count": 2,
   "metadata": {},
   "outputs": [
    {
     "name": "stdout",
     "output_type": "stream",
     "text": [
      "(10240, 3, 32, 32)\n"
     ]
    }
   ],
   "source": [
    "import os\n",
    "import numpy as np\n",
    "from tqdm import tqdm\n",
    "max_files = 40\n",
    "#max_files = 1\n",
    "\n",
    "def load_and_stack_samples(directory, max_files):\n",
    "    read_files = [f\"samples_{i}.npz\" for i in range(max_files)]\n",
    "    npz_files = [os.path.join(directory, f) for f in read_files]\n",
    "    samples_list = []\n",
    "    for f in npz_files:\n",
    "        if not os.path.exists(f):\n",
    "            return None\n",
    "        with np.load(f) as data:\n",
    "            if not 'samples_raw' in data:\n",
    "                return None\n",
    "            samples_list.append(data['samples_raw'].astype(np.float32))\n",
    "    return np.concatenate(samples_list, axis=0) if samples_list else None\n",
    "\n",
    "def load_samples_for_all_subdirs(root_dir, max_dirs, max_files, hint=None):\n",
    "    result_dict = {}\n",
    "    for subdir in tqdm(sorted(os.listdir(root_dir))[:max_dirs]):\n",
    "        if hint is not None:\n",
    "            if not hint in subdir:\n",
    "                continue\n",
    "        subdir_path = os.path.join(root_dir, subdir)\n",
    "        if os.path.isdir(subdir_path):\n",
    "            result = load_and_stack_samples(subdir_path, max_files)\n",
    "            if result is not None:\n",
    "                result_dict[subdir] = result\n",
    "    return result_dict\n",
    "\n",
    "# 사용 예시:\n",
    "directory_path = \"/data/score_sde_outputs/checkpoint_8/lagrange_10k200\"\n",
    "reference = load_and_stack_samples(directory_path, max_files=max_files)\n",
    "print(reference.shape)\n"
   ]
  },
  {
   "cell_type": "code",
   "execution_count": 17,
   "metadata": {},
   "outputs": [
    {
     "name": "stderr",
     "output_type": "stream",
     "text": [
      "100%|██████████| 281/281 [00:00<00:00, 288.77it/s]"
     ]
    },
    {
     "name": "stdout",
     "output_type": "stream",
     "text": [
      "1\n"
     ]
    },
    {
     "name": "stderr",
     "output_type": "stream",
     "text": [
      "\n"
     ]
    }
   ],
   "source": [
    "root_dir = '/data/score_sde_outputs/checkpoint_8'\n",
    "result_dict = load_samples_for_all_subdirs(root_dir, max_dirs=1000, max_files=max_files, hint='rbf_25')\n",
    "print(len(result_dict))"
   ]
  },
  {
   "cell_type": "code",
   "execution_count": 18,
   "metadata": {},
   "outputs": [
    {
     "name": "stdout",
     "output_type": "stream",
     "text": [
      "rbf_25 1.212975475937128\n"
     ]
    }
   ],
   "source": [
    "pairs = []\n",
    "for key, arr in result_dict.items():\n",
    "    if arr.shape == reference.shape:\n",
    "        l2 = np.mean((reference - arr)**2) * 10000\n",
    "        pairs.append((key, l2))\n",
    "\n",
    "pairs.sort(key=lambda x: x[0])\n",
    "\n",
    "for k, v in pairs:\n",
    "    print(k, v)\n"
   ]
  },
  {
   "cell_type": "code",
   "execution_count": 4,
   "metadata": {},
   "outputs": [
    {
     "name": "stdout",
     "output_type": "stream",
     "text": [
      "rbf_const_optimal_5 43.037617579102516\n",
      "rbf_spd_const_5 44.253626838326454\n",
      "rbf_const_grid_optimal_5 44.49122119694948\n",
      "rbf_ecp_optimal_5 44.58761774003506\n",
      "rbf_ecp_same4_5 44.629620388150215\n",
      "rbf_ecp_same5_5 44.629620388150215\n",
      "rbf_ecp_same_optimal_5 44.629620388150215\n",
      "rbf_xt_5 44.689225032925606\n",
      "rbf_gram_5 45.18920090049505\n",
      "lagrange_5 45.352024026215076\n",
      "rbf_plag_ctarget_5 45.75266968458891\n",
      "rbf_gram_lag_5 45.922999270260334\n",
      "rbf_spd_xt4_5 49.51573442667723\n",
      "rbf_spd_xt_5 49.51573442667723\n",
      "rbf_100_5 49.753179773688316\n",
      "rbf_dual_5 49.753179773688316\n",
      "rbf_spd_5 49.8027540743351\n",
      "rbf_spd_ptm_cxt_5 50.30657630413771\n",
      "rbf_ptarget_clag_5 50.80373026430607\n",
      "rbf_spd_clag_tm_5 51.53519567102194\n",
      "rbf_x0_5 58.08610934764147\n",
      "rbf_mix_optimal_5 72.29273673146963\n",
      "rbf_mix_ecp_same_5 107.21026919782162\n",
      "rbf_inception_lag_5 131.0362946242094\n",
      "lagrange_mix_5 249.61229413747787\n",
      "rbf_mix_5 288.63366693258286\n"
     ]
    }
   ],
   "source": [
    "pairs = []\n",
    "for key, arr in result_dict.items():\n",
    "    if arr.shape == reference.shape:\n",
    "        l2 = np.mean((reference - arr)**2) * 10000\n",
    "        pairs.append((key, l2))\n",
    "\n",
    "pairs.sort(key=lambda x: x[1])\n",
    "\n",
    "for k, v in pairs:\n",
    "    if k.endswith('_5'):\n",
    "        print(k, v)\n"
   ]
  },
  {
   "cell_type": "code",
   "execution_count": 5,
   "metadata": {},
   "outputs": [
    {
     "name": "stdout",
     "output_type": "stream",
     "text": [
      "rbf_xt_6 27.419179677963257\n",
      "rbf_spd_6 27.479410637170076\n",
      "rbf_spd_ptm_cxt_6 27.595635037869215\n",
      "rbf_spd_xt4_6 27.644920628517866\n",
      "rbf_spd_xt_6 27.644920628517866\n",
      "rbf_ecp_optimal_6 28.909866232424974\n",
      "rbf_ecp_same4_6 28.953503351658583\n",
      "rbf_ecp_same5_6 28.953503351658583\n",
      "rbf_ecp_same_optimal_6 28.953503351658583\n",
      "rbf_spd_const_6 29.753081034868956\n",
      "rbf_gram_6 29.78525822982192\n",
      "rbf_mix_optimal_6 30.219706241041422\n",
      "rbf_gram_lag_6 31.074231956154108\n",
      "rbf_const_optimal_6 31.661479733884335\n",
      "rbf_100_6 31.916326843202114\n",
      "rbf_dual_6 31.981354113668203\n",
      "rbf_const_grid_optimal_6 32.74877555668354\n",
      "rbf_ptarget_clag_6 32.843363005667925\n",
      "rbf_x0_6 41.53312649577856\n",
      "rbf_plag_ctarget_6 46.82152532041073\n",
      "lagrange_6 48.88362716883421\n",
      "rbf_mix_ecp_same_6 52.955253049731255\n",
      "rbf_inception_lag_6 55.405725724995136\n",
      "lagrange_mix_6 97.76095859706402\n",
      "rbf_mix_6 139.80778865516186\n"
     ]
    }
   ],
   "source": [
    "for k, v in pairs:\n",
    "    if k.endswith('_6'):\n",
    "        print(k, v)\n"
   ]
  },
  {
   "cell_type": "code",
   "execution_count": 6,
   "metadata": {},
   "outputs": [
    {
     "name": "stdout",
     "output_type": "stream",
     "text": [
      "rbf_ecp_same4_8 14.12846613675356\n",
      "rbf_ecp_same5_8 14.12846613675356\n",
      "rbf_ecp_same_optimal_8 14.619318535551429\n",
      "rbf_const_grid_optimal_8 14.689426170662045\n",
      "rbf_100_8 14.793367590755224\n",
      "rbf_spd_ptm_cxt_8 15.001602005213499\n",
      "rbf_dual_8 15.237516490742564\n",
      "rbf_spd_8 15.371313784271479\n",
      "rbf_const_optimal_8 15.41562844067812\n",
      "rbf_spd_const_8 15.849696937948465\n",
      "rbf_ptarget_clag_8 16.59309258684516\n",
      "lagrange_mix_8 16.822522738948464\n",
      "rbf_plag_ctarget_8 17.860193038359284\n",
      "rbf_spd_xt4_8 18.079575384035707\n",
      "rbf_ecp_optimal_8 18.64523161202669\n",
      "lagrange_8 19.424563506618142\n",
      "rbf_xt_8 19.461405463516712\n",
      "rbf_spd_xt_8 24.432663340121508\n",
      "rbf_gram_8 25.49838274717331\n",
      "rbf_x0_8 25.92105185613036\n",
      "rbf_mix_8 26.705011259764433\n",
      "rbf_gram_lag_8 27.962825261056423\n",
      "rbf_mix_ecp_same_8 28.1087146140635\n",
      "rbf_mix_optimal_8 28.496242593973875\n",
      "rbf_inception_lag_8 44.014318846166134\n"
     ]
    }
   ],
   "source": [
    "for k, v in pairs:\n",
    "    if k.endswith('_8'):\n",
    "        print(k, v)\n"
   ]
  },
  {
   "cell_type": "code",
   "execution_count": 7,
   "metadata": {},
   "outputs": [
    {
     "name": "stdout",
     "output_type": "stream",
     "text": [
      "rbf_ecp_same5_10 7.755103288218379\n",
      "lagrange_mix_10 7.891880813986063\n",
      "rbf_ecp_same_optimal_10 8.437956566922367\n",
      "rbf_100_10 8.562402799725533\n",
      "rbf_ecp_same4_10 8.676119614392519\n",
      "lagrange_10 8.812317973934114\n",
      "rbf_const_optimal_10 9.179448243230581\n",
      "rbf_dual_10 9.417074616067111\n",
      "rbf_plag_ctarget_10 9.535954450257123\n",
      "rbf_spd_const_10 9.61054116487503\n",
      "rbf_ptarget_clag_10 9.847191395238042\n",
      "rbf_spd_10 10.258876718580723\n",
      "rbf_ecp_optimal_10 10.294857202097774\n",
      "rbf_spd_xt4_10 10.521096410229802\n",
      "rbf_xt_10 10.527967242524028\n",
      "rbf_mix_10 10.955958859995008\n",
      "rbf_spd_ptm_cxt_10 11.270045069977641\n",
      "rbf_gram_10 11.446084827184677\n",
      "rbf_const_grid_optimal_10 12.344027636572719\n",
      "rbf_gram_lag_10 13.215860817581415\n",
      "rbf_spd_xt_10 13.388418592512608\n",
      "rbf_x0_10 14.777167234569788\n",
      "rbf_inception_lag_10 20.662806928157806\n",
      "rbf_mix_ecp_same_10 27.27283863350749\n",
      "rbf_mix_optimal_10 30.673157889395952\n"
     ]
    }
   ],
   "source": [
    "for k, v in pairs:\n",
    "    if k.endswith('_10'):\n",
    "        print(k, v)\n"
   ]
  },
  {
   "cell_type": "code",
   "execution_count": 8,
   "metadata": {},
   "outputs": [
    {
     "name": "stdout",
     "output_type": "stream",
     "text": [
      "lagrange_mix_12 5.904371500946581\n",
      "rbf_spd_xt_12 6.647897535003722\n",
      "rbf_ecp_same5_12 6.647955160588026\n",
      "rbf_ecp_same4_12 6.732998299412429\n",
      "rbf_ecp_same_optimal_12 6.890277145430446\n",
      "lagrange_12 6.892408127896488\n",
      "rbf_spd_xt4_12 6.984025822021067\n",
      "rbf_const_optimal_12 7.627116283401847\n",
      "rbf_ecp_optimal_12 8.336942410096526\n",
      "rbf_mix_12 8.899232489056885\n",
      "rbf_dual_12 21.084139589220285\n",
      "rbf_mix_ecp_same_12 26.559706311672926\n",
      "rbf_mix_optimal_12 31.852393876761198\n"
     ]
    }
   ],
   "source": [
    "for k, v in pairs:\n",
    "    if k.endswith('_12'):\n",
    "        print(k, v)\n"
   ]
  },
  {
   "cell_type": "code",
   "execution_count": 9,
   "metadata": {},
   "outputs": [
    {
     "name": "stdout",
     "output_type": "stream",
     "text": [
      "lagrange_mix_15 3.1746135209687054\n",
      "lagrange_15 3.4775087260641158\n",
      "rbf_ecp_same_optimal_15 3.4808882628567517\n",
      "rbf_spd_xt_15 3.7374728708527982\n",
      "rbf_ecp_same4_15 3.7628604331985116\n",
      "rbf_spd_xt4_15 3.8560497341677547\n",
      "rbf_mix_15 4.43167460616678\n",
      "rbf_ecp_same5_15 4.682581638917327\n",
      "rbf_mix_optimal_15 29.88395979627967\n"
     ]
    }
   ],
   "source": [
    "for k, v in pairs:\n",
    "    if k.endswith('_15'):\n",
    "        print(k, v)\n"
   ]
  },
  {
   "cell_type": "code",
   "execution_count": null,
   "metadata": {},
   "outputs": [],
   "source": []
  },
  {
   "cell_type": "code",
   "execution_count": null,
   "metadata": {},
   "outputs": [],
   "source": []
  },
  {
   "cell_type": "code",
   "execution_count": null,
   "metadata": {},
   "outputs": [],
   "source": []
  },
  {
   "cell_type": "code",
   "execution_count": null,
   "metadata": {},
   "outputs": [],
   "source": []
  }
 ],
 "metadata": {
  "kernelspec": {
   "display_name": "rbf",
   "language": "python",
   "name": "python3"
  },
  "language_info": {
   "codemirror_mode": {
    "name": "ipython",
    "version": 3
   },
   "file_extension": ".py",
   "mimetype": "text/x-python",
   "name": "python",
   "nbconvert_exporter": "python",
   "pygments_lexer": "ipython3",
   "version": "3.11.11"
  }
 },
 "nbformat": 4,
 "nbformat_minor": 2
}

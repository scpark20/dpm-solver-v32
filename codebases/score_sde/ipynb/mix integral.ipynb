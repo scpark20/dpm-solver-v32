{
 "cells": [
  {
   "cell_type": "code",
   "execution_count": 4,
   "metadata": {},
   "outputs": [],
   "source": [
    "import numpy as np\n",
    "import math\n",
    "from scipy.integrate import quad\n",
    "from scipy.special import erf\n",
    "\n",
    "def integral_by_quad(lam_s, lam_t, lam_u, beta, tau):\n",
    "    \"\"\"\n",
    "    주어진 구간 [lam_s, lam_t]에서\n",
    "    exp(lam - beta^2 * (lam - lam_u)**2)를\n",
    "    수치적으로 적분하여 결과와 추정 오차를 반환.\n",
    "    \"\"\"\n",
    "\n",
    "    def integrand(lam, lam_u, beta, tau):\n",
    "      \"\"\"\n",
    "      적분에 쓰일 integrand 함수.\n",
    "      exp(lam - beta^2 * (lam - lam_u)^2)를 반환.\n",
    "      \"\"\"\n",
    "      return np.exp(tau*lam - beta**2 * (lam - lam_u)**2)\n",
    "\n",
    "    val, err = quad(integrand, lam_s, lam_t, args=(lam_u, beta, tau))\n",
    "    return val\n",
    "\n",
    "def integral_by_closed(lam_s, lam_t, lam_u, beta, tau):\n",
    "    \"\"\"\n",
    "    [lam_s, lam_t] 구간에서\n",
    "    exp(lam - beta^2*(lam - lam_u)^2) 적분의 닫힌형 해를 반환한다.\n",
    "    \"\"\"\n",
    "    prefactor = np.exp(tau*lam_u + tau**2/(4*beta**2)) * np.sqrt(np.pi)/(2*beta)\n",
    "    upper = beta*(lam_t-lam_u-(tau/(2*beta**2)))\n",
    "    lower = beta*(lam_s-lam_u-(tau/(2*beta**2)))\n",
    "    return prefactor * (erf(upper) - erf(lower))"
   ]
  },
  {
   "cell_type": "code",
   "execution_count": 7,
   "metadata": {},
   "outputs": [
    {
     "name": "stdout",
     "output_type": "stream",
     "text": [
      "NFE : 5  result : Fail\n",
      "NFE : 6  result : Fail\n",
      "NFE : 7  result : Fail\n",
      "NFE : 8  result : Fail\n",
      "NFE : 9  result : Fail\n",
      "NFE : 10  result : Fail\n"
     ]
    }
   ],
   "source": [
    "import matplotlib.pyplot as plt\n",
    "\n",
    "# log_scales : -1 ~ 1 구간 10등분, Goal : -6 ~ 6 구간까지 증가시켜야함\n",
    "log_scales = np.linspace(-3, 3, 10)\n",
    "scales = np.exp(log_scales)\n",
    "\n",
    "# 하이퍼파라미터 설정\n",
    "lam_min = -5.0778\n",
    "lam_max = 5.7618\n",
    "lam_range = lam_max - lam_min\n",
    "\n",
    "for NFE in range(5, 11):\n",
    "    allclose_list = []\n",
    "\n",
    "    for step in range(NFE):\n",
    "        h = lam_range / NFE\n",
    "        betas = 1/(scales*h)\n",
    "\n",
    "        for tau in np.linspace(0, 1, 2):\n",
    "\n",
    "            for r_u in [1, 0, -1, -2]:\n",
    "                # 적분 구간 [lam_s, lam_t] 정의\n",
    "                lam_s = lam_min + step * h\n",
    "                lam_t = lam_min + (step+1) * h\n",
    "                lam_u = lam_s + r_u * h\n",
    "\n",
    "                # 각각 수치적분과 닫힌형 해로 적분\n",
    "                inte_by_quad = np.array([integral_by_quad(lam_s, lam_t, lam_u, beta, tau) for beta in betas])\n",
    "                inte_by_closed = np.array([integral_by_closed(lam_s, lam_t, lam_u, beta, tau) for beta in betas])\n",
    "\n",
    "                # 두 방식의 적분 결과를 비교\n",
    "                allclose = np.allclose(inte_by_quad, inte_by_closed)\n",
    "                allclose_list.append(allclose)\n",
    "\n",
    "    allclose_list = np.array(allclose_list)\n",
    "    print('NFE :', NFE, ' result :', 'Pass' if np.prod(allclose_list) else 'Fail')"
   ]
  },
  {
   "cell_type": "code",
   "execution_count": null,
   "metadata": {},
   "outputs": [],
   "source": []
  },
  {
   "cell_type": "code",
   "execution_count": null,
   "metadata": {},
   "outputs": [],
   "source": []
  },
  {
   "cell_type": "code",
   "execution_count": null,
   "metadata": {},
   "outputs": [],
   "source": []
  }
 ],
 "metadata": {
  "kernelspec": {
   "display_name": "rbf",
   "language": "python",
   "name": "python3"
  },
  "language_info": {
   "codemirror_mode": {
    "name": "ipython",
    "version": 3
   },
   "file_extension": ".py",
   "mimetype": "text/x-python",
   "name": "python",
   "nbconvert_exporter": "python",
   "pygments_lexer": "ipython3",
   "version": "3.11.11"
  }
 },
 "nbformat": 4,
 "nbformat_minor": 2
}

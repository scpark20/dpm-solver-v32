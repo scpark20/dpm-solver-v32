{
 "cells": [
  {
   "cell_type": "code",
   "execution_count": 1,
   "metadata": {},
   "outputs": [],
   "source": [
    "import os\n",
    "os.chdir('../')"
   ]
  },
  {
   "cell_type": "code",
   "execution_count": 4,
   "metadata": {},
   "outputs": [
    {
     "name": "stdout",
     "output_type": "stream",
     "text": [
      "torch.Size([256, 3, 32, 32])\n"
     ]
    }
   ],
   "source": [
    "import numpy as np\n",
    "import torch\n",
    "import torch.nn.functional as F\n",
    "\n",
    "def get_traj(npz):\n",
    "    data = np.load(npz)\n",
    "    target_traj, model_traj, _ = data['hist']\n",
    "    return target_traj, model_traj\n",
    "\n",
    "target_traj, model_traj = get_traj('/data/score_sde_outputs/checkpoint_8/UniPC_bh1_200/samples_0.npz')\n",
    "ref = model_traj[-1]\n",
    "ref = torch.tensor(ref)\n",
    "print(ref.shape)"
   ]
  },
  {
   "cell_type": "code",
   "execution_count": 7,
   "metadata": {},
   "outputs": [
    {
     "name": "stdout",
     "output_type": "stream",
     "text": [
      "5 tensor(0.0154) tensor(0.0152)\n",
      "6 tensor(0.0102) tensor(0.0094)\n",
      "8 tensor(0.0063) tensor(0.0066)\n",
      "10 tensor(0.0046) tensor(0.0047)\n",
      "12 tensor(0.0043) tensor(0.0029)\n",
      "15 tensor(0.0028) tensor(0.0017)\n",
      "20 tensor(0.0014) tensor(0.0006)\n",
      "25 tensor(0.0008) tensor(0.0002)\n",
      "30 tensor(0.0005) tensor(7.1874e-05)\n",
      "35 tensor(0.0004) tensor(4.0521e-05)\n",
      "40 tensor(0.0005) tensor(1.9744e-05)\n"
     ]
    }
   ],
   "source": [
    "for NFE in [5, 6, 8, 10, 12, 15, 20, 25, 30, 35, 40]:\n",
    "    _, bytarget_traj = get_traj(f'/data/score_sde_outputs/checkpoint_8/rbf_ecp_marginal_{NFE}/samples_0.npz')\n",
    "    bytarget = bytarget_traj[-1]\n",
    "    bytarget = torch.tensor(bytarget)\n",
    "\n",
    "    _, bymodel_traj = get_traj(f'/data/score_sde_outputs/checkpoint_8/rbf_ecp_marginal_xt_{NFE}/samples_0.npz')\n",
    "    bymodel = bymodel_traj[-1]\n",
    "    bymodel = torch.tensor(bymodel)\n",
    "\n",
    "    target_loss = F.mse_loss(ref, bytarget)\n",
    "    model_loss = F.mse_loss(ref, bymodel)\n",
    "\n",
    "    print(NFE, target_loss, model_loss)\n"
   ]
  },
  {
   "cell_type": "code",
   "execution_count": null,
   "metadata": {},
   "outputs": [],
   "source": []
  },
  {
   "cell_type": "code",
   "execution_count": null,
   "metadata": {},
   "outputs": [],
   "source": []
  },
  {
   "cell_type": "code",
   "execution_count": null,
   "metadata": {},
   "outputs": [],
   "source": []
  }
 ],
 "metadata": {
  "kernelspec": {
   "display_name": "rbf",
   "language": "python",
   "name": "python3"
  },
  "language_info": {
   "codemirror_mode": {
    "name": "ipython",
    "version": 3
   },
   "file_extension": ".py",
   "mimetype": "text/x-python",
   "name": "python",
   "nbconvert_exporter": "python",
   "pygments_lexer": "ipython3",
   "version": "3.11.11"
  }
 },
 "nbformat": 4,
 "nbformat_minor": 2
}
